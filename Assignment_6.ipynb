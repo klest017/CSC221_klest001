{
  "nbformat": 4,
  "nbformat_minor": 0,
  "metadata": {
    "colab": {
      "provenance": [],
      "authorship_tag": "ABX9TyNVVt02MPaDuWhwa89PYf2V",
      "include_colab_link": true
    },
    "kernelspec": {
      "name": "python3",
      "display_name": "Python 3"
    },
    "language_info": {
      "name": "python"
    }
  },
  "cells": [
    {
      "cell_type": "markdown",
      "metadata": {
        "id": "view-in-github",
        "colab_type": "text"
      },
      "source": [
        "<a href=\"https://colab.research.google.com/github/klest017/CSC221_klest001/blob/main/Assignment_6.ipynb\" target=\"_parent\"><img src=\"https://colab.research.google.com/assets/colab-badge.svg\" alt=\"Open In Colab\"/></a>"
      ]
    },
    {
      "cell_type": "code",
      "execution_count": 15,
      "metadata": {
        "colab": {
          "base_uri": "https://localhost:8080/"
        },
        "id": "A2jkl1eSYp5H",
        "outputId": "f791f9e0-bf8e-46bf-8c87-1cc65217641d"
      },
      "outputs": [
        {
          "output_type": "stream",
          "name": "stdout",
          "text": [
            "False\n",
            "False\n",
            "True\n",
            "False\n",
            "False\n",
            "False\n",
            "True\n"
          ]
        }
      ],
      "source": [
        "#TIY 5-1\n",
        "\n",
        "#1\n",
        "print(car==\"jeep\")\n",
        "print(morning==\"bad\")\n",
        "print(morning==\"good\")\n",
        "\n",
        "print((car==\"nissan\") and (morning==\"bad\"))\n",
        "print((car==\"jeep\") and (morning==\"bad\"))\n",
        "\n",
        "car = \"honda\"\n",
        "morning = \"good\"\n",
        "\n",
        "print(car==\"toyota\")\n",
        "\n",
        "car = \"tesla\"\n",
        "morning = \"good\"\n",
        "\n",
        "print(car==\"tesla\")"
      ]
    },
    {
      "cell_type": "code",
      "source": [
        "#TIY 5-2\n",
        "\n",
        "name_1 = \"Kayla\"\n",
        "name_2 = \"Caila\"\n",
        "name_3 = \"Cala\"\n",
        "\n",
        "#Equality of strings\n",
        "if (name_1 == name_3):\n",
        "    print(\"Equal!\")\n",
        "else:\n",
        "    print(\"Unequal!\")\n",
        "\n",
        "# Inequality of strings\n",
        "if(name_1 != name_2):\n",
        "    print(\"The names are unequal\")\n",
        "else:\n",
        "    print(\"The names are equal\")\n",
        "\n",
        "# Numerical tests\n",
        "age_1 = 18\n",
        "age_2 = 23\n",
        "\n",
        "if (age_1 ==18):\n",
        "    print(\"Person is eligible to vote\")\n",
        "if(age_1 != 23):\n",
        "          print(\"Person cannot drink\")\n",
        "if(age_1 <= age_2):\n",
        "    print(\"Yonger\")\n",
        "if(age_2 >= age_1):\n",
        "    print(\"Older\")\n",
        "\n",
        "# and/or keyword test\n",
        "if (age_1 ==18 or age_23>=23):\n",
        "    print(\"Person is eligible for voting\")\n",
        "if(age_1 ==18 and age_2==23):\n",
        "    print(\"Age difference is 18 years\")\n",
        "\n",
        "## Item in list or not\n",
        "fruits = ['mango','bananna','peach']\n",
        "if 'Peach' in fruits:\n",
        "    print(\"Peach is present in fruits\")\n",
        "if 'mango' not in fruits:\n",
        "    print(\"Mango is not present in fruits\")\n"
      ],
      "metadata": {
        "colab": {
          "base_uri": "https://localhost:8080/"
        },
        "id": "QiVTXXw1a5HG",
        "outputId": "97eaa736-c04e-4933-c1a2-076c47a67a26"
      },
      "execution_count": null,
      "outputs": [
        {
          "output_type": "stream",
          "name": "stdout",
          "text": [
            "Unequal!\n",
            "The names are unequal\n",
            "Person is eligible to vote\n",
            "Person cannot drink\n",
            "Yonger\n",
            "Older\n",
            "Person is eligible for voting\n",
            "Age difference is 18 years\n"
          ]
        }
      ]
    },
    {
      "cell_type": "code",
      "source": [
        "#TIY 5-3\n",
        "\n",
        "alien_color = \"green\"\n",
        "\n",
        "if (alien_color==\"green\"):\n",
        "    print(\"Player earned 5 points.\")\n",
        "\n",
        "# 2nd version of this program.\n",
        "\n",
        "alien_color2 = \"red\"\n",
        "if (alien_color2==\"green\"):\n",
        "    print(\"Player earned 5 points.\")\n"
      ],
      "metadata": {
        "colab": {
          "base_uri": "https://localhost:8080/"
        },
        "id": "TshPfVSMpYUR",
        "outputId": "b6fa45fc-1ca0-4830-8f98-dcd7050bf3d1"
      },
      "execution_count": 16,
      "outputs": [
        {
          "output_type": "stream",
          "name": "stdout",
          "text": [
            "Player earned 5 points.\n"
          ]
        }
      ]
    },
    {
      "cell_type": "code",
      "source": [
        "#TIY 5-6\n",
        "\n",
        "age = 20\n",
        "\n",
        "if age<2:\n",
        "    print(\"You are a baby.\")\n",
        "elif ((age>2) and (age<=4)):\n",
        "    print(\"You are a toodler.\")\n",
        "elif ((age>4) and (age<=13)):\n",
        "    print(\"You are a kid.\")\n",
        "elif ((age>13) and (age<=20)):\n",
        "    print(\"You are a teenager.\")\n",
        "elif ((age>20) and (age<=65)):\n",
        "    print(\"You are an adult.\")\n",
        "elif (age>65):\n",
        "    print(\"You are an elder.\")"
      ],
      "metadata": {
        "colab": {
          "base_uri": "https://localhost:8080/"
        },
        "id": "ow5JvvHarm4K",
        "outputId": "fbcd6a3f-194b-4c66-ab7b-0ca1b5a166ea"
      },
      "execution_count": 17,
      "outputs": [
        {
          "output_type": "stream",
          "name": "stdout",
          "text": [
            "You are a teenager.\n"
          ]
        }
      ]
    },
    {
      "cell_type": "code",
      "source": [
        "#TIY 5-12\n",
        "def calculate_grade(score):\n",
        "    if score >= 90 and score <= 100:\n",
        "        return \"Your grade is A.\"\n",
        "    elif score >= 80 and score < 90:\n",
        "        return \"Your grade is B.\"\n",
        "    elif score >= 70 and score < 80:\n",
        "        return \"Your grade is C.\"\n",
        "    elif score >= 60 and score < 70:\n",
        "        return \"Your grade is D.\"\n",
        "    else:\n",
        "        return \"Your grade is F.\"\n",
        "\n",
        "# Test cases\n",
        "scores = [90, 80, 75, 65, 55]\n",
        "for score in scores:\n",
        "    print(f\"Score: {score} - {calculate_grade(score)}\")\n",
        "\n"
      ],
      "metadata": {
        "colab": {
          "base_uri": "https://localhost:8080/"
        },
        "id": "-mzmnEiwswE1",
        "outputId": "88b58198-266d-4111-eaf0-c1b36fbfd5eb"
      },
      "execution_count": null,
      "outputs": [
        {
          "output_type": "stream",
          "name": "stdout",
          "text": [
            "Score: 90 - Your grade is A.\n",
            "Score: 80 - Your grade is B.\n",
            "Score: 75 - Your grade is C.\n",
            "Score: 65 - Your grade is D.\n",
            "Score: 55 - Your grade is F.\n"
          ]
        }
      ]
    },
    {
      "cell_type": "code",
      "source": [
        "#TIY 5-13\n",
        " #Creating a website where people are able to ask me certain questions to learn! (EXAMPLE)\n",
        "\n",
        " # Define a list of your top favorite things\n",
        "favorite_things = [\n",
        "    \"Playing my Nintendo Switch\",\n",
        "    \"Watching Anime\",\n",
        "    \"Spending time with family and friends\",\n",
        "    \"Listening to music\",\n",
        "    \"Eating delicious food (Wendyss)\",\n",
        "    \"Going to the movies with friends or alone\",\n",
        "    \"Having me time\",\n",
        "    \"Going on walks (when the weather is nice)\",\n",
        "    \"Taking photos\",\n",
        "    \"Coding and programming (duhhh)\"\n",
        "]\n",
        "\n",
        "# Print the list of favorite things\n",
        "print(\"My Top Favorite Things:\")\n",
        "for idx, thing in enumerate(favorite_things, start=1):\n",
        "    print(f\"{idx}. {thing}\")\n"
      ],
      "metadata": {
        "id": "rTW5wAaG-UTP",
        "colab": {
          "base_uri": "https://localhost:8080/"
        },
        "outputId": "414ce3e0-1b48-4edc-8a17-4a565fc8202f"
      },
      "execution_count": 18,
      "outputs": [
        {
          "output_type": "stream",
          "name": "stdout",
          "text": [
            "My Top Favorite Things:\n",
            "1. Playing my Nintendo Switch\n",
            "2. Watching Anime\n",
            "3. Spending time with family and friends\n",
            "4. Listening to music\n",
            "5. Eating delicious food (Wendyss)\n",
            "6. Going to the movies with friends or alone\n",
            "7. Having me time\n",
            "8. Going on walks (when the weather is nice)\n",
            "9. Taking photos\n",
            "10. Coding and programming (duhhh)\n"
          ]
        }
      ]
    }
  ]
}