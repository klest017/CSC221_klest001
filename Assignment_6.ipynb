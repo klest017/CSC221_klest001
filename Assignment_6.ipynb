{
  "nbformat": 4,
  "nbformat_minor": 0,
  "metadata": {
    "colab": {
      "provenance": [],
      "authorship_tag": "ABX9TyMogarfwHxdmu7N/q8fmKBR",
      "include_colab_link": true
    },
    "kernelspec": {
      "name": "python3",
      "display_name": "Python 3"
    },
    "language_info": {
      "name": "python"
    }
  },
  "cells": [
    {
      "cell_type": "markdown",
      "metadata": {
        "id": "view-in-github",
        "colab_type": "text"
      },
      "source": [
        "<a href=\"https://colab.research.google.com/github/klest017/CSC221_klest001/blob/main/Assignment_6.ipynb\" target=\"_parent\"><img src=\"https://colab.research.google.com/assets/colab-badge.svg\" alt=\"Open In Colab\"/></a>"
      ]
    },
    {
      "cell_type": "code",
      "execution_count": 2,
      "metadata": {
        "colab": {
          "base_uri": "https://localhost:8080/"
        },
        "id": "A2jkl1eSYp5H",
        "outputId": "c00c2132-4864-4062-e9ef-799e600b6cee"
      },
      "outputs": [
        {
          "output_type": "stream",
          "name": "stdout",
          "text": [
            "False\n",
            "False\n",
            "False\n",
            "True\n",
            "True\n",
            "False\n"
          ]
        }
      ],
      "source": [
        "#TIY 5-1\n",
        "\n",
        "car = \"nissan\"\n",
        "morning = \"good\"\n",
        "\n",
        "print(car==\"toyota\")\n",
        "\n",
        "\n",
        "\n",
        "\n",
        "\n",
        "print(car==\"jeep\")\n",
        "\n",
        "\n",
        "\n",
        "\n",
        "\n",
        "print(morning==\"bad\")\n",
        "\n",
        "\n",
        "\n",
        "\n",
        "\n",
        "print(morning==\"good\")\n",
        "\n",
        "\n",
        "\n",
        "\n",
        "\n",
        "print((car==\"nissan\") and (morning==\"good\"))\n",
        "\n",
        "\n",
        "\n",
        "\n",
        "\n",
        "print((car==\"kia\") and (morning==\"bad\"))\n",
        "\n",
        "\n"
      ]
    },
    {
      "cell_type": "code",
      "source": [
        "#TIY 5-2\n",
        "\n",
        "bird = \"flying rat\"\n",
        "print(\"Is bird == 'pigeon'? I predict False\")\n",
        "print(bird == \"pigeon\")\n",
        "\n",
        "print(\"\\nIs bird == 'Flying Rat'.lower()? I predict True\")\n",
        "print(bird == \"Flying Rat\".lower())\n",
        "\n",
        "num = 4\n",
        "print(\"\\nIs num == 4? I predict True\")\n",
        "print(num == 4)\n",
        "\n",
        "print(\"\\nIs num <= 4? I predict True\")\n",
        "print(num <= 4)\n",
        "\n",
        "print(\"\\nIs num > 4? I predict False\")\n",
        "print(num > 4)\n",
        "\n",
        "print(\"\\nIs num != 4? I predict False\")\n",
        "print(num != 4)\n",
        "\n",
        "print(\"\\nIs num <= 5 and num >= -5? I predict True\")\n",
        "print(num <= 5 and num >= -5)\n",
        "\n",
        "print(\"\\nIs num > 6 or num < -6? I predict False\")\n",
        "print(num > 6 or num < -6)\n",
        "\n",
        "randomList = [\"pigeon\", \"cat\", \"doggo\", \"rat\", \"fat dino\", \"crazy jay\"]\n",
        "print(\"\\nIs cat in randomList? I predict True\")\n",
        "print(f\"{'cat' in randomList}\")\n",
        "\n",
        "print(\"\\nIs cow not in randomList? I predict True\")\n",
        "print(f\"{'cow' not in randomList}\")\n"
      ],
      "metadata": {
        "colab": {
          "base_uri": "https://localhost:8080/"
        },
        "id": "QiVTXXw1a5HG",
        "outputId": "fa187bb9-71ec-493b-a50c-7f49d5dedc79"
      },
      "execution_count": 13,
      "outputs": [
        {
          "output_type": "stream",
          "name": "stdout",
          "text": [
            "Is bird == 'pigeon'? I predict False\n",
            "False\n",
            "\n",
            "Is bird == 'Flying Rat'.lower()? I predict True\n",
            "True\n",
            "\n",
            "Is num == 4? I predict True\n",
            "True\n",
            "\n",
            "Is num <= 4? I predict True\n",
            "True\n",
            "\n",
            "Is num > 4? I predict False\n",
            "False\n",
            "\n",
            "Is num != 4? I predict False\n",
            "False\n",
            "\n",
            "Is num <= 5 and num >= -5? I predict True\n",
            "True\n",
            "\n",
            "Is num > 6 or num < -6? I predict False\n",
            "False\n",
            "\n",
            "Is cat in randomList? I predict True\n",
            "True\n",
            "\n",
            "Is cow not in randomList? I predict True\n",
            "True\n"
          ]
        }
      ]
    },
    {
      "cell_type": "code",
      "source": [
        "#TIY 5-3\n",
        "\n",
        "alien_color = \"green\"\n",
        "\n",
        "\n",
        "\n",
        "\n",
        "\n",
        "if (alien_color==\"green\"):\n",
        "    print(\"Player earned 5 points.\")\n",
        "\n",
        "\n",
        "\n",
        "\n",
        "\n",
        "# 2nd version of this program.\n",
        "\n",
        "alien_color2 = \"red\"\n",
        "\n",
        "\n",
        "\n",
        "\n",
        "\n",
        "if (alien_color2==\"green\"):\n",
        "    print(\"Player earned 5 points.\")\n"
      ],
      "metadata": {
        "colab": {
          "base_uri": "https://localhost:8080/"
        },
        "id": "TshPfVSMpYUR",
        "outputId": "5cb97396-4907-4099-cb01-86c1be247aec"
      },
      "execution_count": 3,
      "outputs": [
        {
          "output_type": "stream",
          "name": "stdout",
          "text": [
            "Player earned 5 points.\n"
          ]
        }
      ]
    },
    {
      "cell_type": "code",
      "source": [
        "#TIY 5-6\n",
        "\n",
        "age = 20\n",
        "\n",
        "\n",
        "\n",
        "if age<2:\n",
        "    print(\"You are a baby.\")\n",
        "elif ((age>2) and (age<=4)):\n",
        "    print(\"You are a toodler.\")\n",
        "elif ((age>4) and (age<=13)):\n",
        "    print(\"You are a kid.\")\n",
        "elif ((age>13) and (age<=20)):\n",
        "    print(\"You are a teenager.\")\n",
        "elif ((age>20) and (age<=65)):\n",
        "    print(\"You are an adult.\")\n",
        "elif (age>65):\n",
        "    print(\"You are an elder.\")\n",
        "\n",
        "\n",
        "\n"
      ],
      "metadata": {
        "colab": {
          "base_uri": "https://localhost:8080/"
        },
        "id": "ow5JvvHarm4K",
        "outputId": "950f9743-5a8e-42c5-f89e-34eaca617377"
      },
      "execution_count": 10,
      "outputs": [
        {
          "output_type": "stream",
          "name": "stdout",
          "text": [
            "You are a teenager.\n"
          ]
        }
      ]
    },
    {
      "cell_type": "code",
      "source": [
        "#TIY 5-12\n",
        "def calculate_grade(score):\n",
        "    if score >= 90 and score <= 100:\n",
        "        return \"Your grade is A.\"\n",
        "    elif score >= 80 and score < 90:\n",
        "        return \"Your grade is B.\"\n",
        "    elif score >= 70 and score < 80:\n",
        "        return \"Your grade is C.\"\n",
        "    elif score >= 60 and score < 70:\n",
        "        return \"Your grade is D.\"\n",
        "    else:\n",
        "        return \"Your grade is F.\"\n",
        "\n",
        "# Test cases\n",
        "scores = [90, 80, 75, 65, 55]\n",
        "for score in scores:\n",
        "    print(f\"Score: {score} - {calculate_grade(score)}\")\n",
        "\n"
      ],
      "metadata": {
        "colab": {
          "base_uri": "https://localhost:8080/"
        },
        "id": "-mzmnEiwswE1",
        "outputId": "88b58198-266d-4111-eaf0-c1b36fbfd5eb"
      },
      "execution_count": 2,
      "outputs": [
        {
          "output_type": "stream",
          "name": "stdout",
          "text": [
            "Score: 90 - Your grade is A.\n",
            "Score: 80 - Your grade is B.\n",
            "Score: 75 - Your grade is C.\n",
            "Score: 65 - Your grade is D.\n",
            "Score: 55 - Your grade is F.\n"
          ]
        }
      ]
    },
    {
      "cell_type": "code",
      "source": [
        "#TIY 5-13\n",
        "\n",
        "After being able to learn a bit of programming now, Im personally interested in wanting to create websites that may contain things like\n",
        "my portfolio or my own personal website of content I wish to share."
      ],
      "metadata": {
        "id": "rTW5wAaG-UTP"
      },
      "execution_count": null,
      "outputs": []
    }
  ]
}