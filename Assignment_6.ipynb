{
  "nbformat": 4,
  "nbformat_minor": 0,
  "metadata": {
    "colab": {
      "provenance": [],
      "authorship_tag": "ABX9TyPWK/Wp+TwjTPX6eqkOMtxa",
      "include_colab_link": true
    },
    "kernelspec": {
      "name": "python3",
      "display_name": "Python 3"
    },
    "language_info": {
      "name": "python"
    }
  },
  "cells": [
    {
      "cell_type": "markdown",
      "metadata": {
        "id": "view-in-github",
        "colab_type": "text"
      },
      "source": [
        "<a href=\"https://colab.research.google.com/github/klest017/CSC221_klest001/blob/main/Assignment_6.ipynb\" target=\"_parent\"><img src=\"https://colab.research.google.com/assets/colab-badge.svg\" alt=\"Open In Colab\"/></a>"
      ]
    },
    {
      "cell_type": "code",
      "execution_count": null,
      "metadata": {
        "colab": {
          "base_uri": "https://localhost:8080/"
        },
        "id": "A2jkl1eSYp5H",
        "outputId": "c00c2132-4864-4062-e9ef-799e600b6cee"
      },
      "outputs": [
        {
          "output_type": "stream",
          "name": "stdout",
          "text": [
            "False\n",
            "False\n",
            "False\n",
            "True\n",
            "True\n",
            "False\n"
          ]
        }
      ],
      "source": [
        "#TIY 5-1\n",
        "\n",
        "car = \"nissan\"\n",
        "morning = \"good\"\n",
        "\n",
        "print(car==\"toyota\")\n",
        "\n",
        "\n",
        "\n",
        "\n",
        "\n",
        "print(car==\"jeep\")\n",
        "\n",
        "\n",
        "\n",
        "\n",
        "\n",
        "print(morning==\"bad\")\n",
        "\n",
        "\n",
        "\n",
        "\n",
        "\n",
        "print(morning==\"good\")\n",
        "\n",
        "\n",
        "\n",
        "\n",
        "\n",
        "print((car==\"nissan\") and (morning==\"good\"))\n",
        "\n",
        "\n",
        "\n",
        "\n",
        "\n",
        "print((car==\"kia\") and (morning==\"bad\"))\n",
        "\n",
        "\n"
      ]
    },
    {
      "cell_type": "code",
      "source": [
        "#TIY 5-2\n",
        "\n",
        "name_1 = \"Kayla\"\n",
        "name_2 = \"Caila\"\n",
        "name_3 = \"Cala\"\n",
        "\n",
        "#Equality of strings\n",
        "\n",
        "if (name_1 == name_3):\n",
        "    print(\"Equal!\")\n",
        "else:\n",
        "    print(\"Unequal!\")\n",
        "\n",
        "# Inequality of strings\n",
        "\n",
        "if(name_1 != name_2):\n",
        "    print(\"The names are unequal\")\n",
        "else:\n",
        "    print(\"The names are equal\")\n",
        "\n",
        "# Numerical tests\n",
        "\n",
        "age_1 = 18\n",
        "\n",
        "age_2 = 23\n",
        "\n",
        "if (age_1 ==18):\n",
        "    print(\"Person is eligible to vote\")\n",
        "\n",
        "if(age_1 != 23):\n",
        "          print(\"Person cannot drink\")\n",
        "\n",
        "if(age_1 <= age_2):\n",
        "    print(\"Yonger\")\n",
        "\n",
        "if(age_2 >= age_1):\n",
        "    print(\"Older\")\n",
        "\n",
        "# and/or keyword test\n",
        "if (age_1 ==18 or age_23>=23):\n",
        "    print(\"Person is eligible for voting\")\n",
        "\n",
        "if(age_1 ==18 and age_2==23):\n",
        "    print(\"Age difference is 18 years\")\n",
        "\n",
        "## Item in list or not\n",
        "fruits = ['mango','bananna','peach']\n",
        "if 'Peach' in fruits:\n",
        "    print(\"Peach is present in fruits\")\n",
        "if 'mango' not in fruits:\n",
        "    print(\"Mango is not present in fruits\")\n"
      ],
      "metadata": {
        "colab": {
          "base_uri": "https://localhost:8080/"
        },
        "id": "QiVTXXw1a5HG",
        "outputId": "97eaa736-c04e-4933-c1a2-076c47a67a26"
      },
      "execution_count": null,
      "outputs": [
        {
          "output_type": "stream",
          "name": "stdout",
          "text": [
            "Unequal!\n",
            "The names are unequal\n",
            "Person is eligible to vote\n",
            "Person cannot drink\n",
            "Yonger\n",
            "Older\n",
            "Person is eligible for voting\n",
            "Age difference is 18 years\n"
          ]
        }
      ]
    },
    {
      "cell_type": "code",
      "source": [
        "#TIY 5-3\n",
        "\n",
        "alien_color = \"green\"\n",
        "\n",
        "\n",
        "\n",
        "\n",
        "\n",
        "if (alien_color==\"green\"):\n",
        "    print(\"Player earned 5 points.\")\n",
        "\n",
        "\n",
        "\n",
        "\n",
        "\n",
        "# 2nd version of this program.\n",
        "\n",
        "alien_color2 = \"red\"\n",
        "\n",
        "\n",
        "\n",
        "\n",
        "\n",
        "if (alien_color2==\"green\"):\n",
        "    print(\"Player earned 5 points.\")\n"
      ],
      "metadata": {
        "colab": {
          "base_uri": "https://localhost:8080/"
        },
        "id": "TshPfVSMpYUR",
        "outputId": "5cb97396-4907-4099-cb01-86c1be247aec"
      },
      "execution_count": null,
      "outputs": [
        {
          "output_type": "stream",
          "name": "stdout",
          "text": [
            "Player earned 5 points.\n"
          ]
        }
      ]
    },
    {
      "cell_type": "code",
      "source": [
        "#TIY 5-6\n",
        "\n",
        "age = 20\n",
        "\n",
        "\n",
        "\n",
        "if age<2:\n",
        "    print(\"You are a baby.\")\n",
        "elif ((age>2) and (age<=4)):\n",
        "    print(\"You are a toodler.\")\n",
        "elif ((age>4) and (age<=13)):\n",
        "    print(\"You are a kid.\")\n",
        "elif ((age>13) and (age<=20)):\n",
        "    print(\"You are a teenager.\")\n",
        "elif ((age>20) and (age<=65)):\n",
        "    print(\"You are an adult.\")\n",
        "elif (age>65):\n",
        "    print(\"You are an elder.\")\n",
        "\n",
        "\n",
        "\n"
      ],
      "metadata": {
        "colab": {
          "base_uri": "https://localhost:8080/"
        },
        "id": "ow5JvvHarm4K",
        "outputId": "950f9743-5a8e-42c5-f89e-34eaca617377"
      },
      "execution_count": null,
      "outputs": [
        {
          "output_type": "stream",
          "name": "stdout",
          "text": [
            "You are a teenager.\n"
          ]
        }
      ]
    },
    {
      "cell_type": "code",
      "source": [
        "#TIY 5-12\n",
        "def calculate_grade(score):\n",
        "    if score >= 90 and score <= 100:\n",
        "        return \"Your grade is A.\"\n",
        "    elif score >= 80 and score < 90:\n",
        "        return \"Your grade is B.\"\n",
        "    elif score >= 70 and score < 80:\n",
        "        return \"Your grade is C.\"\n",
        "    elif score >= 60 and score < 70:\n",
        "        return \"Your grade is D.\"\n",
        "    else:\n",
        "        return \"Your grade is F.\"\n",
        "\n",
        "# Test cases\n",
        "scores = [90, 80, 75, 65, 55]\n",
        "for score in scores:\n",
        "    print(f\"Score: {score} - {calculate_grade(score)}\")\n",
        "\n"
      ],
      "metadata": {
        "colab": {
          "base_uri": "https://localhost:8080/"
        },
        "id": "-mzmnEiwswE1",
        "outputId": "88b58198-266d-4111-eaf0-c1b36fbfd5eb"
      },
      "execution_count": null,
      "outputs": [
        {
          "output_type": "stream",
          "name": "stdout",
          "text": [
            "Score: 90 - Your grade is A.\n",
            "Score: 80 - Your grade is B.\n",
            "Score: 75 - Your grade is C.\n",
            "Score: 65 - Your grade is D.\n",
            "Score: 55 - Your grade is F.\n"
          ]
        }
      ]
    },
    {
      "cell_type": "code",
      "source": [
        "#TIY 5-13\n",
        "\n",
        "After being able to learn a bit of programming now, Im personally interested in wanting to create websites that may contain things like\n",
        "my portfolio or my own personal website of content I wish to share."
      ],
      "metadata": {
        "id": "rTW5wAaG-UTP"
      },
      "execution_count": null,
      "outputs": []
    }
  ]
}