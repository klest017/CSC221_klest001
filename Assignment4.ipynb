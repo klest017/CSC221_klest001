{
  "nbformat": 4,
  "nbformat_minor": 0,
  "metadata": {
    "colab": {
      "provenance": [],
      "authorship_tag": "ABX9TyNxDvsGr+IWYyWb1qFK9025"
    },
    "kernelspec": {
      "name": "python3",
      "display_name": "Python 3"
    },
    "language_info": {
      "name": "python"
    }
  },
  "cells": [
    {
      "cell_type": "code",
      "execution_count": null,
      "metadata": {
        "colab": {
          "base_uri": "https://localhost:8080/"
        },
        "id": "DLjhO2eBUwZI",
        "outputId": "b9f844cc-1c75-4fc2-c7a4-151254d47287"
      },
      "outputs": [
        {
          "output_type": "stream",
          "name": "stdout",
          "text": [
            "Kayla\n",
            "Andrea\n",
            "Bojii\n"
          ]
        }
      ],
      "source": [
        "# TIY 3-1\n",
        "names = ['Kayla', 'Andrea', 'Bojii']\n",
        "\n",
        "print(names[0])\n",
        "print(names[1])\n",
        "print(names[2])"
      ]
    },
    {
      "cell_type": "code",
      "source": [
        "# TIY 3-2\n",
        "names = ['Kayla', 'Andrea', 'Bojii']\n",
        "\n",
        "msg = \"Hi, \" + names[0].title() + \"!\"\n",
        "print(msg)\n",
        "\n",
        "msg = \"Hi, \" + names[1].title() + \"!\"\n",
        "print(msg)\n",
        "\n",
        "msg = \"Hi, \" + names[2].title() + \"!\"\n",
        "print(msg)"
      ],
      "metadata": {
        "colab": {
          "base_uri": "https://localhost:8080/"
        },
        "id": "tyT6v1qTVVl3",
        "outputId": "1b449009-c004-4a69-9cc6-f30ee07a438f"
      },
      "execution_count": null,
      "outputs": [
        {
          "output_type": "stream",
          "name": "stdout",
          "text": [
            "Hi, Kayla!\n",
            "Hi, Andrea!\n",
            "Hi, Bojii!\n"
          ]
        }
      ]
    },
    {
      "cell_type": "code",
      "source": [
        "# TIY 3-3\n",
        "\n",
        "favorite_places = ['beach', \"city\"]\n",
        "\n",
        "print(\"I love to go to the {}\".format(favorite_places[0]))\n",
        "print(\"I love to eat in {}\".format(favorite_places[1]))"
      ],
      "metadata": {
        "colab": {
          "base_uri": "https://localhost:8080/"
        },
        "id": "fm4ceH40cm7y",
        "outputId": "2e1a7638-31ae-49dd-fbe8-367b7e381657"
      },
      "execution_count": null,
      "outputs": [
        {
          "output_type": "stream",
          "name": "stdout",
          "text": [
            "I love to go to the beach\n",
            "I love to eat in city\n"
          ]
        }
      ]
    },
    {
      "cell_type": "code",
      "source": [
        "#TIY 3-4\n",
        "guests = ['Bruno Mars', 'Rihanna', 'Beyonce']\n",
        "\n",
        "name = guests[0].title()\n",
        "print(name + \", I'd like to formally invite you to dinner.\")\n",
        "\n",
        "name = guests[1].title()\n",
        "print(name + \", I'd like to formally invite you to dinner.\")\n",
        "\n",
        "name = guests[2].title()\n",
        "print(name + \", I'd like to formally invite you to dinner.\")"
      ],
      "metadata": {
        "colab": {
          "base_uri": "https://localhost:8080/"
        },
        "id": "jrMIthzkexxp",
        "outputId": "e0a27449-c38d-4603-aa92-e27dc89b5a28"
      },
      "execution_count": null,
      "outputs": [
        {
          "output_type": "stream",
          "name": "stdout",
          "text": [
            "Bruno Mars, I'd like to formally invite you to dinner.\n",
            "Rihanna, I'd like to formally invite you to dinner.\n",
            "Beyonce, I'd like to formally invite you to dinner.\n"
          ]
        }
      ]
    },
    {
      "cell_type": "code",
      "source": [
        "#TIY 3-5\n",
        "\n",
        "# Invite some people to dinner.\n",
        "guests = ['Bruno Mars', 'Rihanna', 'Beyonce']\n",
        "\n",
        "name = guests[0].title()\n",
        "print(name + \", please come to dinner.\")\n",
        "\n",
        "name = guests[1].title()\n",
        "print(name + \", please come to dinner.\")\n",
        "\n",
        "name = guests[2].title()\n",
        "print(name + \", please come to dinner.\")\n",
        "\n",
        "name = guests[1].title()\n",
        "print(\"\\nSorry, \" + name + \" can't make it to dinner.\")\n",
        "\n",
        "# Jack can't make it! Let's invite Gary instead.\n",
        "del(guests[1])\n",
        "guests.insert(1, 'gary snyder')\n",
        "\n",
        "# Print the invitations again.\n",
        "name = guests[0].title()\n",
        "print(\"\\n\" + name + \", please come to dinner.\")\n",
        "\n",
        "name = guests[1].title()\n",
        "print(name + \", please come to dinner.\")\n",
        "\n",
        "name = guests[2].title()\n",
        "print(name + \", please come to dinner.\")"
      ],
      "metadata": {
        "colab": {
          "base_uri": "https://localhost:8080/"
        },
        "id": "gA2irUz2gSGq",
        "outputId": "84477baa-4f73-4f01-8ea9-912ee69a0bd3"
      },
      "execution_count": null,
      "outputs": [
        {
          "output_type": "stream",
          "name": "stdout",
          "text": [
            "Bruno Mars, please come to dinner.\n",
            "Rihanna, please come to dinner.\n",
            "Beyonce, please come to dinner.\n",
            "\n",
            "Sorry, Rihanna can't make it to dinner.\n",
            "\n",
            "Bruno Mars, please come to dinner.\n",
            "Gary Snyder, please come to dinner.\n",
            "Beyonce, please come to dinner.\n"
          ]
        }
      ]
    },
    {
      "cell_type": "code",
      "source": [
        "#TIY 3-6\n",
        "\n",
        "# Invite some people to dinner.\n",
        "guests = ['Bruno Mars', 'Rihanna', 'Beyonce']\n",
        "\n",
        "name = guests[0].title()\n",
        "print(name + \", please come to dinner.\")\n",
        "\n",
        "name = guests[1].title()\n",
        "print(name + \", please come to dinner.\")\n",
        "\n",
        "name = guests[2].title()\n",
        "print(name + \", please come to dinner.\")\n",
        "\n",
        "name = guests[1].title()\n",
        "print(\"\\nSorry, \" + name + \" can't make it to dinner.\")\n",
        "\n",
        "# Jack can't make it! Let's invite Gary instead.\n",
        "del(guests[1])\n",
        "guests.insert(1, 'Daynah')\n",
        "\n",
        "# Print the invitations again.\n",
        "name = guests[0].title()\n",
        "print(\"\\n\" + name + \", please come to dinner.\")\n",
        "\n",
        "name = guests[1].title()\n",
        "print(name + \", please come to dinner.\")\n",
        "\n",
        "name = guests[2].title()\n",
        "print(name + \", please come to dinner.\")\n",
        "\n",
        "# We got a bigger table, so let's add some more people to the list.\n",
        "print(\"\\nWe got a bigger table!\")\n",
        "guests.insert(0, 'Labrinth')\n",
        "guests.insert(2, 'Zendaya')\n",
        "guests.append('Squad')\n",
        "\n",
        "name = guests[0].title()\n",
        "print(name + \", please come to dinner.\")\n",
        "\n",
        "name = guests[1].title()\n",
        "print(name + \", please come to dinner.\")\n",
        "\n",
        "name = guests[2].title()\n",
        "print(name + \", please come to dinner.\")\n",
        "\n",
        "name = guests[3].title()\n",
        "print(name + \", please come to dinner.\")\n",
        "\n",
        "name = guests[4].title()\n",
        "print(name + \", please come to dinner.\")\n",
        "\n",
        "name = guests[5].title()\n",
        "print(name + \", please come to dinner.\")"
      ],
      "metadata": {
        "colab": {
          "base_uri": "https://localhost:8080/"
        },
        "id": "Wyhi3C5yj5Sr",
        "outputId": "5944e2ea-7ffb-4fd5-bfd7-fe8d7151c21e"
      },
      "execution_count": null,
      "outputs": [
        {
          "output_type": "stream",
          "name": "stdout",
          "text": [
            "Bruno Mars, please come to dinner.\n",
            "Rihanna, please come to dinner.\n",
            "Beyonce, please come to dinner.\n",
            "\n",
            "Sorry, Rihanna can't make it to dinner.\n",
            "\n",
            "Bruno Mars, please come to dinner.\n",
            "Daynah, please come to dinner.\n",
            "Beyonce, please come to dinner.\n",
            "\n",
            "We got a bigger table!\n",
            "Labrinth, please come to dinner.\n",
            "Bruno Mars, please come to dinner.\n",
            "Zendaya, please come to dinner.\n",
            "Daynah, please come to dinner.\n",
            "Beyonce, please come to dinner.\n",
            "Squad, please come to dinner.\n"
          ]
        }
      ]
    },
    {
      "cell_type": "code",
      "source": [
        "#TIY 3-7\n",
        "\n",
        "# Invite some people to dinner.\n",
        "guests = ['Bruno Mars', 'Rihanna', 'Beyonce']\n",
        "\n",
        "name = guests[0].title()\n",
        "print(name + \", please come to dinner.\")\n",
        "\n",
        "name = guests[1].title()\n",
        "print(name + \", please come to dinner.\")\n",
        "\n",
        "name = guests[2].title()\n",
        "print(name + \", please come to dinner.\")\n",
        "\n",
        "name = guests[1].title()\n",
        "print(\"\\nSorry, \" + name + \" can't make it to dinner.\")\n",
        "\n",
        "# Jack can't make it! Let's invite Gary instead.\n",
        "del(guests[1])\n",
        "guests.insert(1, 'Daynah')\n",
        "\n",
        "# Print the invitations again.\n",
        "name = guests[0].title()\n",
        "print(\"\\n\" + name + \", please come to dinner.\")\n",
        "\n",
        "name = guests[1].title()\n",
        "print(name + \", please come to dinner.\")\n",
        "\n",
        "name = guests[2].title()\n",
        "print(name + \", please come to dinner.\")\n",
        "\n",
        "# We got a bigger table, so let's add some more people to the list.\n",
        "print(\"\\nWe got a bigger table!\")\n",
        "guests.insert(0, 'Labrinth')\n",
        "guests.insert(2, 'Zendaya')\n",
        "guests.append('Squad')\n",
        "\n",
        "print(name + \", please come to dinner.\")\n",
        "\n",
        "name = guests[1].title()\n",
        "print(name + \", please come to dinner.\")\n",
        "\n",
        "name = guests[2].title()\n",
        "print(name + \", please come to dinner.\")\n",
        "\n",
        "name = guests[3].title()\n",
        "print(name + \", please come to dinner.\")\n",
        "\n",
        "name = guests[4].title()\n",
        "print(name + \", please come to dinner.\")\n",
        "\n",
        "name = guests[5].title()\n",
        "print(name + \", please come to dinner.\")\n",
        "\n",
        "# Oh no, the table won't arrive on time!\n",
        "print(\"\\nSorry, we can only invite two people to dinner.\")\n",
        "\n",
        "name = guests.pop()\n",
        "print(\"Sorry, \" + name.title() + \" there's no room at the table.\")\n",
        "\n",
        "name = guests.pop()\n",
        "print(\"Sorry, \" + name.title() + \" there's no room at the table.\")\n",
        "\n",
        "name = guests.pop()\n",
        "print(\"Sorry, \" + name.title() + \" there's no room at the table.\")\n",
        "\n",
        "name = guests.pop()\n",
        "print(\"Sorry, \" + name.title() + \" there's no room at the table.\")\n",
        "\n",
        "# There should be two people left. Let's invite them.\n",
        "name = guests[0].title()\n",
        "print(name + \", please come to dinner.\")\n",
        "\n",
        "name = guests[1].title()\n",
        "print(name + \", please come to dinner.\")\n",
        "\n",
        "# Empty out the list.\n",
        "del(guests[0])\n",
        "del(guests[0])\n",
        "\n",
        "# Prove the list is empty.\n",
        "print(guests)"
      ],
      "metadata": {
        "colab": {
          "base_uri": "https://localhost:8080/"
        },
        "id": "fmtZC-dakOis",
        "outputId": "879955fd-ed56-4465-ea85-d22d8897aabc"
      },
      "execution_count": null,
      "outputs": [
        {
          "output_type": "stream",
          "name": "stdout",
          "text": [
            "Bruno Mars, please come to dinner.\n",
            "Rihanna, please come to dinner.\n",
            "Beyonce, please come to dinner.\n",
            "\n",
            "Sorry, Rihanna can't make it to dinner.\n",
            "\n",
            "Bruno Mars, please come to dinner.\n",
            "Daynah, please come to dinner.\n",
            "Beyonce, please come to dinner.\n",
            "\n",
            "We got a bigger table!\n",
            "Beyonce, please come to dinner.\n",
            "Bruno Mars, please come to dinner.\n",
            "Zendaya, please come to dinner.\n",
            "Daynah, please come to dinner.\n",
            "Beyonce, please come to dinner.\n",
            "Squad, please come to dinner.\n",
            "\n",
            "Sorry, we can only invite two people to dinner.\n",
            "Sorry, Squad there's no room at the table.\n",
            "Sorry, Beyonce there's no room at the table.\n",
            "Sorry, Daynah there's no room at the table.\n",
            "Sorry, Zendaya there's no room at the table.\n",
            "Labrinth, please come to dinner.\n",
            "Bruno Mars, please come to dinner.\n",
            "[]\n"
          ]
        }
      ]
    },
    {
      "cell_type": "code",
      "source": [
        "# TIY 3-8\n",
        "\n",
        "locations = ['Jamaica', 'California', 'Bahamas ', 'Disney', 'Key West']\n",
        "\n",
        "print(\"Original order:\")\n",
        "print(locations)\n",
        "\n",
        "print(\"\\nAlphabetical:\")\n",
        "print(sorted(locations))\n",
        "\n",
        "print(\"\\nOriginal order:\")\n",
        "print(locations)\n",
        "\n",
        "print(\"\\nReverse alphabetical:\")\n",
        "print(sorted(locations, reverse=True))\n",
        "\n",
        "print(\"\\nOriginal order:\")\n",
        "print(locations)\n",
        "\n",
        "print(\"\\nReversed:\")\n",
        "locations.reverse()\n",
        "print(locations)\n",
        "\n",
        "print(\"\\nOriginal order:\")\n",
        "locations.reverse()\n",
        "print(locations)\n",
        "\n",
        "print(\"\\nAlphabetical\")\n",
        "locations.sort()\n",
        "print(locations)\n",
        "\n",
        "print(\"\\nReverse alphabetical\")\n",
        "locations.sort(reverse=True)\n",
        "print(locations)"
      ],
      "metadata": {
        "colab": {
          "base_uri": "https://localhost:8080/"
        },
        "id": "TbV-zxbAoUzI",
        "outputId": "88c4f8e6-8d98-4e45-ce86-4f0d70c341f7"
      },
      "execution_count": null,
      "outputs": [
        {
          "output_type": "stream",
          "name": "stdout",
          "text": [
            "Original order:\n",
            "['Jamaica', 'California', 'Bahamas ', 'Disney', 'Key West']\n",
            "\n",
            "Alphabetical:\n",
            "['Bahamas ', 'California', 'Disney', 'Jamaica', 'Key West']\n",
            "\n",
            "Original order:\n",
            "['Jamaica', 'California', 'Bahamas ', 'Disney', 'Key West']\n",
            "\n",
            "Reverse alphabetical:\n",
            "['Key West', 'Jamaica', 'Disney', 'California', 'Bahamas ']\n",
            "\n",
            "Original order:\n",
            "['Jamaica', 'California', 'Bahamas ', 'Disney', 'Key West']\n",
            "\n",
            "Reversed:\n",
            "['Key West', 'Disney', 'Bahamas ', 'California', 'Jamaica']\n",
            "\n",
            "Original order:\n",
            "['Jamaica', 'California', 'Bahamas ', 'Disney', 'Key West']\n",
            "\n",
            "Alphabetical\n",
            "['Bahamas ', 'California', 'Disney', 'Jamaica', 'Key West']\n",
            "\n",
            "Reverse alphabetical\n",
            "['Key West', 'Jamaica', 'Disney', 'California', 'Bahamas ']\n"
          ]
        }
      ]
    },
    {
      "cell_type": "code",
      "source": [
        "#TIY 3-9\n",
        "\n",
        "invitations = [\"Zendaya\", \"Beyonce\", \"Rihanna\"]\n",
        "count_invitations = len(invitations)\n",
        "\n",
        "print(\"{} people will come to my dinner party\".format(count_invitations))\n",
        "\n"
      ],
      "metadata": {
        "colab": {
          "base_uri": "https://localhost:8080/"
        },
        "id": "TFiI8c4uo_kI",
        "outputId": "cdb5d0b2-31b0-4565-d77c-2e5695ce3b5d"
      },
      "execution_count": null,
      "outputs": [
        {
          "output_type": "stream",
          "name": "stdout",
          "text": [
            "3 people will come to my dinner party\n"
          ]
        }
      ]
    },
    {
      "cell_type": "code",
      "source": [
        "# TIY 3-10\n"
      ],
      "metadata": {
        "id": "8uT_Pdooprb7"
      },
      "execution_count": null,
      "outputs": []
    },
    {
      "cell_type": "code",
      "source": [
        "# Define a list\n",
        "my_list = [8, 6, 3, 2, 7]\n",
        "\n",
        "# Trying to access an element beyond the length of the list\n",
        "try:\n",
        "    print(my_list[5])  # This will cause an index error since the index is out of range\n",
        "except IndexError:\n",
        "    print(\"Index Error: Index is out of range!\")\n"
      ],
      "metadata": {
        "colab": {
          "base_uri": "https://localhost:8080/"
        },
        "id": "DrU2BsUnrS7x",
        "outputId": "f51d4c59-4f1e-4cd6-d076-81b1fa30d647"
      },
      "execution_count": null,
      "outputs": [
        {
          "output_type": "stream",
          "name": "stdout",
          "text": [
            "Index Error: Index is out of range!\n"
          ]
        }
      ]
    }
  ]
}