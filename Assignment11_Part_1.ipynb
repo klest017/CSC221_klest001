{
  "nbformat": 4,
  "nbformat_minor": 0,
  "metadata": {
    "colab": {
      "provenance": [],
      "authorship_tag": "ABX9TyOkx5yINsbkHjlY25R/OkHy",
      "include_colab_link": true
    },
    "kernelspec": {
      "name": "python3",
      "display_name": "Python 3"
    },
    "language_info": {
      "name": "python"
    }
  },
  "cells": [
    {
      "cell_type": "markdown",
      "metadata": {
        "id": "view-in-github",
        "colab_type": "text"
      },
      "source": [
        "<a href=\"https://colab.research.google.com/github/klest017/CSC221_klest001/blob/main/Assignment11_Part_1.ipynb\" target=\"_parent\"><img src=\"https://colab.research.google.com/assets/colab-badge.svg\" alt=\"Open In Colab\"/></a>"
      ]
    },
    {
      "cell_type": "code",
      "source": [
        "#Dog Example\n",
        "\n",
        "class Dog():\n",
        "    \"\"\"A simple attempt to model a dog.\"\"\"\n",
        "\n",
        "    def __init__(self, name, age):\n",
        "        \"\"\"Initialize name and age attributes.\"\"\"\n",
        "        self.name = name\n",
        "        self.age = age\n",
        "\n",
        "    def sit(self):\n",
        "        \"\"\"Simulate a dog sitting in response to a command.\"\"\"\n",
        "        print(self.name.title() + \" is now sitting.\")\n",
        "\n",
        "    def roll_over(self):\n",
        "        \"\"\"Simulate rolling over in response to a command.\"\"\"\n",
        "        print(self.name.title() + \" rolled over!\")"
      ],
      "metadata": {
        "id": "o_N5Sk9FBMpW"
      },
      "execution_count": 19,
      "outputs": []
    },
    {
      "cell_type": "code",
      "source": [
        "#Car Example\n",
        "\n",
        "class Car():\n",
        "    \"\"\"A simple attempt to represent a car.\"\"\"\n",
        "\n",
        "    def __init__(self, make, model, year):\n",
        "        \"\"\"Initialize attributes to describe a car.\"\"\"\n",
        "        self.make = make\n",
        "        self.model = model\n",
        "        self.year = year\n",
        "        self.odometer_reading = 0\n",
        "\n",
        "    def get_descriptive_name(self):\n",
        "        \"\"\"Return a neatly formatted descriptive name.\"\"\"\n",
        "        long_name = str(self.year) + ' ' + self.make + ' ' + self.model\n",
        "        return long_name.title()\n",
        "\n",
        "    def read_odometer(self):\n",
        "        \"\"\"Print a statement showing the car's mileage.\"\"\"\n",
        "        print(\"This car has \" + str(self.odometer_reading) + \" miles on it.\")\n",
        "\n",
        "    def update_odometer(self, mileage):\n",
        "        \"\"\"\n",
        "        Set the odometer reading to the given value.\n",
        "        Reject the change if it attemps to roll the odometer back.\n",
        "        \"\"\"\n",
        "        if mileage >= self.odometer_reading:\n",
        "            self.odometer_reading = mileage\n",
        "        else:\n",
        "            print(\"You can't roll back an odometer!\")\n",
        "\n",
        "    def increment_odometer(self, miles):\n",
        "        \"\"\"Add the given amount to the odometer reading.\"\"\"\n",
        "        self.odometer_reading += miles\n",
        "\n",
        "    def fill_gas_tank(self):\n",
        "        print(\"The gas tank is now full!\")\n",
        "\n",
        "\n",
        "class Battery():\n",
        "    \"\"\"A simple attempt to model a battery for an electric car.\"\"\"\n",
        "\n",
        "    def __init__(self, battery_size=80):\n",
        "        \"\"\"Initialize the battery's attributes.\"\"\"\n",
        "        self.battery_size = battery_size\n",
        "\n",
        "    def describe_battery(self):\n",
        "        \"\"\"Print a statement describing the battery size.\"\"\"\n",
        "        print(\"This car as a \" + str(self.battery_size) + \"-kWh battery.\")\n",
        "\n",
        "    def get_range(self):\n",
        "        \"\"\"Print a statement about the range this battery provides.\"\"\"\n",
        "        if self.battery_size ==80:\n",
        "            range = 300\n",
        "        elif self.battery_size == 85:\n",
        "            range = 320\n",
        "\n",
        "        message = \"This car can go approximately \" + str(range)\n",
        "        message += \" miles on a full charge.\"\n",
        "        print(message)\n",
        "\n",
        "\n",
        "class Car(Car):\n",
        "    \"\"\"Represents aspects of a car, specific to electric vehicles.\"\"\"\n",
        "    def __init__(self, make, model, year):\n",
        "        \"\"\"Initialize attributes of the parent class.\"\"\"\n",
        "        super().__init__(make, model, year)\n",
        "        self.battery = Battery()\n",
        "\n",
        "    def fill_gas_tank(self):\n",
        "        print(\"This car needs gas\")\n",
        "\n",
        "\n",
        "my_tesla = ElectricCar('jeep', 'model wrangler', 2023)\n",
        "print(my_tesla.get_descriptive_name())\n",
        "my_tesla.battery.describe_battery()\n",
        "my_tesla.fill_gas_tank()\n",
        "my_tesla.battery.get_range()"
      ],
      "metadata": {
        "colab": {
          "base_uri": "https://localhost:8080/"
        },
        "id": "pJou-seFDDFj",
        "outputId": "e2e7122e-3123-48de-8c13-2663f9b45a8a"
      },
      "execution_count": 25,
      "outputs": [
        {
          "output_type": "stream",
          "name": "stdout",
          "text": [
            "2023 Jeep Model Wrangler\n",
            "This car as a 80-kWh battery.\n",
            "This car needs gas\n",
            "This car can go approximately 300 miles on a full charge.\n"
          ]
        }
      ]
    },
    {
      "cell_type": "code",
      "execution_count": 4,
      "metadata": {
        "colab": {
          "base_uri": "https://localhost:8080/"
        },
        "id": "wabIvLX2Bdi1",
        "outputId": "5e9efd6c-0097-40cf-b531-9251a4e1b22d"
      },
      "outputs": [
        {
          "output_type": "stream",
          "name": "stdout",
          "text": [
            "Jamaican food\n",
            "Jerk Chicken\n",
            "The name of the Restaurant is Jamaican food and it makes Jerk Chicken\n",
            "The Restaurant is open\n"
          ]
        }
      ],
      "source": [
        "#TIY 9-1\n",
        "\n",
        "class Restaurant:\n",
        "    def __init__(self, name, cuisine_type):\n",
        "        self.name = name\n",
        "        self.cuisine_type = cuisine_type\n",
        "\n",
        "    def describe_restaurant(self):\n",
        "        print('The name of the Restaurant is {} and it makes {}'.format(self.name, self.cuisine_type))\n",
        "\n",
        "    def open_restaurant(self):\n",
        "        print('The Restaurant is open')\n",
        "\n",
        "\n",
        "restaurant = Restaurant('Jamaican food', 'Jerk Chicken')\n",
        "\n",
        "print(restaurant.name)\n",
        "print(restaurant.cuisine_type)\n",
        "\n",
        "restaurant.describe_restaurant()\n",
        "restaurant.open_restaurant()"
      ]
    },
    {
      "cell_type": "code",
      "source": [
        "#TIY 9-2\n",
        "\n",
        "class Restaurant:\n",
        "    def __init__(self, name, cuisine_type):\n",
        "        self.name = name\n",
        "        self.cuisine_type = cuisine_type\n",
        "\n",
        "    def describe_restaurant(self):\n",
        "        print('The name of the Restaurant is {} and it makes {}'.format(self.name, self.cuisine_type))\n",
        "\n",
        "    def open_restaurant(self):\n",
        "        print('The Restaurant is open')\n",
        "\n",
        "\n",
        "restaurant = Restaurant('Chinese Food', 'Hot Noodles')\n",
        "\n",
        "print(restaurant.name)\n",
        "print(restaurant.cuisine_type)\n",
        "\n",
        "restaurant.describe_restaurant()\n",
        "restaurant.open_restaurant()\n",
        "print()\n",
        "restaurant = Restaurant('Wendys', '4 for 4')\n",
        "\n",
        "print(restaurant.name)\n",
        "print(restaurant.cuisine_type)\n",
        "\n",
        "restaurant.describe_restaurant()\n",
        "restaurant.open_restaurant()\n",
        "print()\n",
        "restaurant = Restaurant('KFC', 'fried chicken')\n",
        "\n",
        "print(restaurant.name)\n",
        "print(restaurant.cuisine_type)\n",
        "\n",
        "restaurant.describe_restaurant()\n",
        "restaurant.open_restaurant()"
      ],
      "metadata": {
        "colab": {
          "base_uri": "https://localhost:8080/"
        },
        "id": "L5UlUKr3_ZL5",
        "outputId": "bc258d26-f760-4842-b729-2d122736f54f"
      },
      "execution_count": 3,
      "outputs": [
        {
          "output_type": "stream",
          "name": "stdout",
          "text": [
            "Chinese Food\n",
            "Hot Noodles\n",
            "The name of the Restaurant is Chinese Food and it makes Hot Noodles\n",
            "The Restaurant is open\n",
            "\n",
            "Wendys\n",
            "4 for 4\n",
            "The name of the Restaurant is Wendys and it makes 4 for 4\n",
            "The Restaurant is open\n",
            "\n",
            "KFC\n",
            "fried chicken\n",
            "The name of the Restaurant is KFC and it makes fried chicken\n",
            "The Restaurant is open\n"
          ]
        }
      ]
    },
    {
      "cell_type": "code",
      "source": [
        "#TIY 9-3\n",
        "\n",
        "class User:\n",
        "    \"\"\"Represent a simple user profile.\"\"\"\n",
        "\n",
        "    def __init__(self, first_name, last_name, username, email, location):\n",
        "        \"\"\"Initialize the user.\"\"\"\n",
        "        self.first_name = first_name.title()\n",
        "        self.last_name = last_name.title()\n",
        "        self.username = username\n",
        "        self.email = email\n",
        "        self.location = location.title()\n",
        "\n",
        "    def describe_user(self):\n",
        "        \"\"\"Display a summary of the user's information.\"\"\"\n",
        "        print(f\"\\n{self.first_name} {self.last_name}\")\n",
        "        print(f\"  Username: {self.username}\")\n",
        "        print(f\"  Email: {self.email}\")\n",
        "        print(f\"  Location: {self.location}\")\n",
        "\n",
        "    def greet_user(self):\n",
        "        \"\"\"Display a personalized greeting to the user.\"\"\"\n",
        "        print(f\"\\nWelcome back, {self.username}!\")\n",
        "\n",
        "kayla = User('Kayla', 'Lester', 'klest001', 'klest001@plattsburgh.edu', 'New York')\n",
        "kayla.describe_user()\n",
        "kayla.greet_user()\n",
        "chelcy = User('Chelcy', 'Smith', 'csmith17', 'csmith17@gmail.com', 'New York')\n",
        "chelcy.describe_user()\n",
        "chelcy.greet_user()"
      ],
      "metadata": {
        "colab": {
          "base_uri": "https://localhost:8080/"
        },
        "id": "9kutsxHE_6SP",
        "outputId": "f08ab543-0115-44d9-b1b9-fd778db49776"
      },
      "execution_count": 6,
      "outputs": [
        {
          "output_type": "stream",
          "name": "stdout",
          "text": [
            "\n",
            "Kayla Lester\n",
            "  Username: klest001\n",
            "  Email: klest001@plattsburgh.edu\n",
            "  Location: New York\n",
            "\n",
            "Welcome back, klest001!\n",
            "\n",
            "Chelcy Smith\n",
            "  Username: csmith17\n",
            "  Email: csmith17@gmail.com\n",
            "  Location: New York\n",
            "\n",
            "Welcome back, csmith17!\n"
          ]
        }
      ]
    },
    {
      "cell_type": "code",
      "source": [],
      "metadata": {
        "id": "lReJZg3x_8yX"
      },
      "execution_count": null,
      "outputs": []
    }
  ]
}