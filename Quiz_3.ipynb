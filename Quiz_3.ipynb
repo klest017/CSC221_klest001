{
  "nbformat": 4,
  "nbformat_minor": 0,
  "metadata": {
    "colab": {
      "provenance": [],
      "authorship_tag": "ABX9TyOpfjbxOc4S1gKPE/KSrxET",
      "include_colab_link": true
    },
    "kernelspec": {
      "name": "python3",
      "display_name": "Python 3"
    },
    "language_info": {
      "name": "python"
    }
  },
  "cells": [
    {
      "cell_type": "markdown",
      "metadata": {
        "id": "view-in-github",
        "colab_type": "text"
      },
      "source": [
        "<a href=\"https://colab.research.google.com/github/klest017/CSC221_klest001/blob/main/Quiz_3.ipynb\" target=\"_parent\"><img src=\"https://colab.research.google.com/assets/colab-badge.svg\" alt=\"Open In Colab\"/></a>"
      ]
    },
    {
      "cell_type": "code",
      "execution_count": null,
      "metadata": {
        "colab": {
          "base_uri": "https://localhost:8080/"
        },
        "id": "De9c4O-B7dSy",
        "outputId": "3b7636aa-b790-4f76-d2a0-094caa93ba39"
      },
      "outputs": [
        {
          "output_type": "stream",
          "name": "stdout",
          "text": [
            "Hello, world!\n"
          ]
        }
      ],
      "source": [
        "# Built in function 1 , print()\n",
        "print(\"Hello, world!\")"
      ]
    },
    {
      "cell_type": "code",
      "source": [
        "# Built in function 2 , len()\n",
        "my_list = [2, 4, 6, 8, 10, 12, 14]\n",
        "print(len(my_list))  # Output is 7\n"
      ],
      "metadata": {
        "colab": {
          "base_uri": "https://localhost:8080/"
        },
        "id": "dfKLfO7d-MA8",
        "outputId": "5598b289-6053-449a-e828-b61d022d483f"
      },
      "execution_count": null,
      "outputs": [
        {
          "output_type": "stream",
          "name": "stdout",
          "text": [
            "7\n"
          ]
        }
      ]
    },
    {
      "cell_type": "code",
      "source": [
        "# Built in function 3, input()\n",
        "name = input(\"Enter your name: \")\n",
        "print(\"Hello, \" + name + \"!\")\n"
      ],
      "metadata": {
        "colab": {
          "base_uri": "https://localhost:8080/"
        },
        "id": "cNX3UuIu_Fci",
        "outputId": "6d78f533-69c0-4372-b72b-a2a04e1a3738"
      },
      "execution_count": null,
      "outputs": [
        {
          "output_type": "stream",
          "name": "stdout",
          "text": [
            "Enter your name: Kayla\n",
            "Hello, Kayla!\n"
          ]
        }
      ]
    },
    {
      "cell_type": "code",
      "source": [
        "# Built in function 4 , int()\n",
        "num = 17\n",
        "num_str = str(num)\n",
        "print(num_str)  # Output is 17\n"
      ],
      "metadata": {
        "colab": {
          "base_uri": "https://localhost:8080/"
        },
        "id": "Jn6DIwhw_ZJS",
        "outputId": "b3d0a2b0-b13f-48a1-a0d2-56beec4e7639"
      },
      "execution_count": null,
      "outputs": [
        {
          "output_type": "stream",
          "name": "stdout",
          "text": [
            "17\n"
          ]
        }
      ]
    },
    {
      "cell_type": "code",
      "source": [
        "# Built in function 5 , sum()\n",
        "\n",
        "my_list = [10, 20, 10, 10, 10]\n",
        "sum_of_list = sum(my_list)\n",
        "print(sum_of_list)  # The output is 60\n",
        "\n"
      ],
      "metadata": {
        "colab": {
          "base_uri": "https://localhost:8080/"
        },
        "id": "IUG3V4IM_wrW",
        "outputId": "2a854c93-20aa-43b9-b561-d26df67fd1c4"
      },
      "execution_count": null,
      "outputs": [
        {
          "output_type": "stream",
          "name": "stdout",
          "text": [
            "60\n"
          ]
        }
      ]
    },
    {
      "cell_type": "code",
      "source": [
        "# Built in function 6 , zip()\n",
        "\n",
        "numbers = [13, 21, 7]\n",
        "letters = ['a', 'b', 'c']\n",
        "zipped = zip(numbers, letters)\n",
        "print(list(zipped))  # Output is [(13, 'a'), (21, 'b'), (7, 'c')]\n"
      ],
      "metadata": {
        "colab": {
          "base_uri": "https://localhost:8080/"
        },
        "id": "HwN8XBEdAcKM",
        "outputId": "7a214a83-63d4-45c9-a2b1-ab4eb98f2f0c"
      },
      "execution_count": null,
      "outputs": [
        {
          "output_type": "stream",
          "name": "stdout",
          "text": [
            "[(13, 'a'), (21, 'b'), (7, 'c')]\n"
          ]
        }
      ]
    },
    {
      "cell_type": "code",
      "source": [
        "# Built in function 7 , min()\n",
        "my_list = [3, 1, 4, 1, 5, 9, 2]\n",
        "min_value = min(my_list)\n",
        "print(min_value)  # Output is 1\n"
      ],
      "metadata": {
        "id": "qlfIdPm2A3Am"
      },
      "execution_count": null,
      "outputs": []
    },
    {
      "cell_type": "code",
      "source": [
        "# Built in function 8 , abs()\n",
        "num = -64\n",
        "abs_num = abs(num)\n",
        "print(abs_num)  # Output is 64\n"
      ],
      "metadata": {
        "colab": {
          "base_uri": "https://localhost:8080/"
        },
        "id": "2rk6SGyUB96R",
        "outputId": "e2f9178b-f5b1-4f81-b125-28f182ee62ed"
      },
      "execution_count": null,
      "outputs": [
        {
          "output_type": "stream",
          "name": "stdout",
          "text": [
            "64\n"
          ]
        }
      ]
    },
    {
      "cell_type": "code",
      "source": [
        "# Built in function 9 , type()\n",
        "num = 24\n",
        "print(type(num))  # Output would be <class 'int'>\n"
      ],
      "metadata": {
        "colab": {
          "base_uri": "https://localhost:8080/"
        },
        "id": "NcajJvc_C_zQ",
        "outputId": "ccb8d589-fcb2-4d6e-af39-65db047e6779"
      },
      "execution_count": null,
      "outputs": [
        {
          "output_type": "stream",
          "name": "stdout",
          "text": [
            "<class 'int'>\n"
          ]
        }
      ]
    },
    {
      "cell_type": "code",
      "source": [
        "# Built in function 10 , sorted()\n",
        "my_list = [7, 1, 2, 2, 5, 8, 2]\n",
        "sorted_list = sorted(my_list)\n",
        "print(sorted_list)  #Print in order from least to greatest\n"
      ],
      "metadata": {
        "colab": {
          "base_uri": "https://localhost:8080/"
        },
        "id": "9AByjKW6DgQ3",
        "outputId": "907ffc3e-1e7a-4cbf-8ea9-077f54d41510"
      },
      "execution_count": null,
      "outputs": [
        {
          "output_type": "stream",
          "name": "stdout",
          "text": [
            "[1, 2, 2, 2, 5, 7, 8]\n"
          ]
        }
      ]
    },
    {
      "cell_type": "code",
      "source": [
        "# Built in function 11 , max()\n",
        "my_list = [21, 76, 32, 12, 51, 19, 22]\n",
        "max_value = max(my_list)\n",
        "print(max_value)  #Output is the biggest number\n"
      ],
      "metadata": {
        "colab": {
          "base_uri": "https://localhost:8080/"
        },
        "id": "0lML6TZiEQT4",
        "outputId": "8af68887-4646-48a1-f97b-d1d7b2041f8e"
      },
      "execution_count": null,
      "outputs": [
        {
          "output_type": "stream",
          "name": "stdout",
          "text": [
            "76\n"
          ]
        }
      ]
    },
    {
      "cell_type": "code",
      "source": [
        "# Built in function 12 , set()\n",
        "my_list = [1, 2, 2, 3, 3]\n",
        "my_set = set(my_list)\n",
        "print(my_set)  # Output is {1, 2, 3}\n"
      ],
      "metadata": {
        "colab": {
          "base_uri": "https://localhost:8080/"
        },
        "id": "Gdp1SqMnEn_n",
        "outputId": "17186500-13a5-4e30-bb65-0ac02f6801e3"
      },
      "execution_count": null,
      "outputs": [
        {
          "output_type": "stream",
          "name": "stdout",
          "text": [
            "{1, 2, 3}\n"
          ]
        }
      ]
    },
    {
      "cell_type": "code",
      "source": [
        "# Built in function 13 , range()\n",
        "my_range = range(10)\n",
        "print(list(my_range))  # Output will be numbers 1-9\n"
      ],
      "metadata": {
        "colab": {
          "base_uri": "https://localhost:8080/"
        },
        "id": "q5f4kzV6Gbf2",
        "outputId": "e5363861-b112-49c8-f288-3e9f547901e5"
      },
      "execution_count": null,
      "outputs": [
        {
          "output_type": "stream",
          "name": "stdout",
          "text": [
            "[0, 1, 2, 3, 4, 5, 6, 7, 8, 9]\n"
          ]
        }
      ]
    },
    {
      "cell_type": "code",
      "source": [
        "# Built in function 14 , any()\n",
        "my_list = [False, True, False]\n",
        "print(any(my_list))  # Output is true"
      ],
      "metadata": {
        "colab": {
          "base_uri": "https://localhost:8080/"
        },
        "id": "aumbkNqXGq2Z",
        "outputId": "079b4db3-34b7-4e67-a40a-4fb8408e73a9"
      },
      "execution_count": null,
      "outputs": [
        {
          "output_type": "stream",
          "name": "stdout",
          "text": [
            "True\n"
          ]
        }
      ]
    },
    {
      "cell_type": "code",
      "source": [
        "# Built in function 15 , all()\n",
        "my_list = [True, True, False]\n",
        "print(all(my_list)) #Output is False\n",
        "\n"
      ],
      "metadata": {
        "id": "mwS5VK8uJAZP",
        "colab": {
          "base_uri": "https://localhost:8080/"
        },
        "outputId": "022e8e6f-74dc-494b-a775-7577d1a34432"
      },
      "execution_count": 23,
      "outputs": [
        {
          "output_type": "stream",
          "name": "stdout",
          "text": [
            "False\n"
          ]
        }
      ]
    },
    {
      "cell_type": "markdown",
      "source": [],
      "metadata": {
        "id": "u47fDV1BIwWj"
      }
    },
    {
      "cell_type": "code",
      "source": [
        "# Built in function 16, enumerate()\n",
        "my_list = ['a', 'b', 'c']\n",
        "for index, value in enumerate(my_list):\n",
        "    print(index, value)\n",
        "# Output would be\n",
        "# 0 a\n",
        "# 1 b\n",
        "# 2 c\n"
      ],
      "metadata": {
        "colab": {
          "base_uri": "https://localhost:8080/"
        },
        "id": "5IRw9SJQJaNo",
        "outputId": "9f1706f0-c69e-4f46-94d4-784e271a20dd"
      },
      "execution_count": 25,
      "outputs": [
        {
          "output_type": "stream",
          "name": "stdout",
          "text": [
            "0 a\n",
            "1 b\n",
            "2 c\n"
          ]
        }
      ]
    },
    {
      "cell_type": "code",
      "source": [
        "# Built in function 17, tuple()\n",
        "my_list = [22, 44, 66]\n",
        "my_tuple = tuple(my_list)\n",
        "print(my_tuple)  # Output is (22, 44, 66)\n"
      ],
      "metadata": {
        "colab": {
          "base_uri": "https://localhost:8080/"
        },
        "id": "Hb0DYO3aJ3Yc",
        "outputId": "481bf6c8-c5d7-4343-ec1a-47ff425f2691"
      },
      "execution_count": 27,
      "outputs": [
        {
          "output_type": "stream",
          "name": "stdout",
          "text": [
            "(22, 44, 66)\n"
          ]
        }
      ]
    },
    {
      "cell_type": "code",
      "source": [
        "# Built in function 18, str()\n",
        "num = 19\n",
        "num_str = str(num)\n",
        "print(num_str)  # The out is 19\n"
      ],
      "metadata": {
        "colab": {
          "base_uri": "https://localhost:8080/"
        },
        "id": "Q0hevzywKSU_",
        "outputId": "146058a3-a2d4-464a-a3ba-ec130fee44c2"
      },
      "execution_count": 28,
      "outputs": [
        {
          "output_type": "stream",
          "name": "stdout",
          "text": [
            "19\n"
          ]
        }
      ]
    },
    {
      "cell_type": "code",
      "source": [
        "# Built in function 19, round()\n",
        "num = 2.1765310\n",
        "rounded_num = round(num, 3)\n",
        "print(rounded_num)\n"
      ],
      "metadata": {
        "colab": {
          "base_uri": "https://localhost:8080/"
        },
        "id": "_PeFaS6WKkzQ",
        "outputId": "a3cb8f00-d13f-417f-ae57-8dc5dbe7cae6"
      },
      "execution_count": 31,
      "outputs": [
        {
          "output_type": "stream",
          "name": "stdout",
          "text": [
            "2.177\n"
          ]
        }
      ]
    },
    {
      "cell_type": "code",
      "source": [
        "# Built in function 20, slice()\n",
        "my_list = [1, 2, 3, 4, 5]\n",
        "sliced_list = slice(2, 5, 3)\n",
        "print(my_list[sliced_list])\n"
      ],
      "metadata": {
        "colab": {
          "base_uri": "https://localhost:8080/"
        },
        "id": "SyrKAJtgLv0I",
        "outputId": "e8c214c5-0275-4012-961f-40ee38e79883"
      },
      "execution_count": 33,
      "outputs": [
        {
          "output_type": "stream",
          "name": "stdout",
          "text": [
            "[3]\n"
          ]
        }
      ]
    }
  ]
}