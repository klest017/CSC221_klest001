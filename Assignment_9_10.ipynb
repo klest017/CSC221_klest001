{
  "nbformat": 4,
  "nbformat_minor": 0,
  "metadata": {
    "colab": {
      "provenance": [],
      "authorship_tag": "ABX9TyOavhoWOiMF0u1Kn2Gyk7rc",
      "include_colab_link": true
    },
    "kernelspec": {
      "name": "python3",
      "display_name": "Python 3"
    },
    "language_info": {
      "name": "python"
    }
  },
  "cells": [
    {
      "cell_type": "markdown",
      "metadata": {
        "id": "view-in-github",
        "colab_type": "text"
      },
      "source": [
        "<a href=\"https://colab.research.google.com/github/klest017/CSC221_klest001/blob/main/Assignment_9_10.ipynb\" target=\"_parent\"><img src=\"https://colab.research.google.com/assets/colab-badge.svg\" alt=\"Open In Colab\"/></a>"
      ]
    },
    {
      "cell_type": "code",
      "source": [
        "# Function to calculate the average of a list of numbers\n",
        "def calculate_average(numbers):\n",
        "    \"\"\"\n",
        "    Calculate the average of a list of numbers.\n",
        "\n",
        "    Parameters:\n",
        "    numbers (list of int/float): The list of numbers.\n",
        "\n",
        "    Returns:\n",
        "    float: The average of the numbers.\n",
        "    \"\"\"\n",
        "    if not numbers:\n",
        "        return 0\n",
        "    return sum(numbers) / len(numbers)\n",
        "\n",
        "# Test cases\n",
        "assert calculate_average([1, 2, 3, 4, 5]) == 3.0\n",
        "assert calculate_average([10, 20, 30, 40, 50]) == 30.0\n"
      ],
      "metadata": {
        "id": "MV9BdGid90iE"
      },
      "execution_count": 2,
      "outputs": []
    },
    {
      "cell_type": "code",
      "source": [
        "# Function to reverse a string\n",
        "def reverse_string(text):\n",
        "    \"\"\"\n",
        "    Reverse a given string.\n",
        "\n",
        "    Parameters:\n",
        "    text (str): The input string.\n",
        "\n",
        "    Returns:\n",
        "    str: The reversed string.\n",
        "    \"\"\"\n",
        "    return text[::-1]\n",
        "\n",
        "# Test cases\n",
        "assert reverse_string(\"Plattsburgh\") == \"hgrubsttalP\"\n",
        "assert reverse_string(\"Island\") == \"dnalsI\"\n"
      ],
      "metadata": {
        "id": "7Gv3FTJ3GAxW"
      },
      "execution_count": 7,
      "outputs": []
    },
    {
      "cell_type": "code",
      "source": [
        "# Function to find the maximum value in a dictionary\n",
        "def find_max_value(dictionary):\n",
        "    \"\"\"\n",
        "    Find the maximum value in a dictionary.\n",
        "\n",
        "    Parameters:\n",
        "    dictionary (dict): The input dictionary.\n",
        "\n",
        "    Returns:\n",
        "    any: The maximum value in the dictionary.\n",
        "    \"\"\"\n",
        "    if not dictionary:\n",
        "        return None\n",
        "    return max(dictionary.values())\n",
        "\n",
        "# Test cases\n",
        "assert find_max_value({'a': 10, 'b': 20, 'c': 15}) == 20\n",
        "assert find_max_value({'x': 100, 'y': 50, 'z': 75}) == 100\n",
        "\n",
        "\n"
      ],
      "metadata": {
        "id": "N0-5YzNnAvCe"
      },
      "execution_count": 5,
      "outputs": []
    },
    {
      "cell_type": "code",
      "source": [
        "import random\n",
        "import string\n",
        "\n",
        "# Function to generate random password\n",
        "def generate_random_password(length):\n",
        "    \"\"\"\n",
        "    Generate a random password of a specified length.\n",
        "\n",
        "    Parameters:\n",
        "    length (int): The length of the password.\n",
        "\n",
        "    Returns:\n",
        "    str: The random password.\n",
        "    \"\"\"\n",
        "    characters = string.ascii_letters + string.digits + string.punctuation\n",
        "    password = ''.join(random.choice(characters) for _ in range(length))\n",
        "    return password\n",
        "\n",
        "# Test cases\n",
        "assert len(generate_random_password(17)) == 17\n",
        "assert len(generate_random_password(20)) == 20\n"
      ],
      "metadata": {
        "id": "AtrmbJn3Gkv_"
      },
      "execution_count": 10,
      "outputs": []
    },
    {
      "cell_type": "code",
      "source": [
        "import random\n",
        "\n",
        "# Function to generate a random compliment\n",
        "def generate_compliment():\n",
        "    \"\"\"\n",
        "    Generate a random compliment from a list of compliments.\n",
        "\n",
        "    Returns:\n",
        "    str: Random compliment.\n",
        "    \"\"\"\n",
        "    compliments = [\n",
        "        \"You're something special\",\n",
        "        \"You're more fun than a ball pit filled with puppies!\",\n",
        "        \"You're one in a million!\",\n",
        "        \"Your smile is contagious!\",\n",
        "    ]\n",
        "    return random.choice(compliments)\n",
        "\n",
        "# Test case (no test case needed for randomness)\n",
        "print(generate_compliment())\n"
      ],
      "metadata": {
        "colab": {
          "base_uri": "https://localhost:8080/"
        },
        "id": "rXYo-ssrHoW-",
        "outputId": "f2d4b755-0ce2-435b-d498-273ff6c3effe"
      },
      "execution_count": 13,
      "outputs": [
        {
          "output_type": "stream",
          "name": "stdout",
          "text": [
            "Your smile is contagious!\n"
          ]
        }
      ]
    },
    {
      "cell_type": "code",
      "source": [
        "# Function to check if a number is even or odd\n",
        "def check_even_odd(number):\n",
        "    \"\"\"\n",
        "    Check if a given number is even or odd.\n",
        "\n",
        "    Parameters:\n",
        "    number (int): The input number.\n",
        "\n",
        "    Returns:\n",
        "    str: \"Even\" if the number is even, \"Odd\" otherwise.\n",
        "    \"\"\"\n",
        "    if number % 2 == 0:\n",
        "        return \"Even\"\n",
        "    else:\n",
        "        return \"Odd\"\n",
        "\n",
        "# Test cases\n",
        "assert check_even_odd(10) == \"Even\"\n",
        "assert check_even_odd(7) == \"Odd\"\n"
      ],
      "metadata": {
        "id": "-vypKpCYHZnG"
      },
      "execution_count": null,
      "outputs": []
    },
    {
      "cell_type": "code",
      "source": [
        "# Function to find the maximum number in a list\n",
        "def find_maximum(numbers):\n",
        "    \"\"\"\n",
        "    Find the maximum number in a list of numbers.\n",
        "\n",
        "    Parameters:\n",
        "    numbers (list of int/float): The list of numbers.\n",
        "\n",
        "    Returns:\n",
        "    int/float: The maximum number.\n",
        "    \"\"\"\n",
        "    if not numbers:\n",
        "        return None\n",
        "    return max(numbers)\n",
        "\n",
        "# Test cases\n",
        "assert find_maximum([1, 5, 3, 9, 7]) == 9\n",
        "assert find_maximum([-10, -5, -20, -3]) == -3\n"
      ],
      "metadata": {
        "id": "0ge34s2GA2Tu"
      },
      "execution_count": null,
      "outputs": []
    },
    {
      "cell_type": "code",
      "source": [
        "# Function to calculate factorial of a non-negative integer\n",
        "def calculate_factorial(n):\n",
        "    \"\"\"\n",
        "    Calculate the factorial of a non-negative integer.\n",
        "\n",
        "    Parameters:\n",
        "    n (int): The input integer.\n",
        "\n",
        "    Returns:\n",
        "    int: The factorial of n.\n",
        "    \"\"\"\n",
        "    if n == 0:\n",
        "        return 1\n",
        "    else:\n",
        "        return n * calculate_factorial(n-1)\n",
        "\n",
        "# Test cases\n",
        "assert calculate_factorial(5) == 120\n",
        "assert calculate_factorial(0) == 1\n"
      ],
      "metadata": {
        "id": "2s7qbPkRG1Fl"
      },
      "execution_count": 12,
      "outputs": []
    },
    {
      "cell_type": "code",
      "source": [
        "# One more function..."
      ],
      "metadata": {
        "id": "u9RDhbLCG1cF"
      },
      "execution_count": null,
      "outputs": []
    }
  ]
}