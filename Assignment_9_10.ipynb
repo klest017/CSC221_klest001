{
  "nbformat": 4,
  "nbformat_minor": 0,
  "metadata": {
    "colab": {
      "provenance": [],
      "authorship_tag": "ABX9TyM4+blsp6r2aXrlXcOFOJT5",
      "include_colab_link": true
    },
    "kernelspec": {
      "name": "python3",
      "display_name": "Python 3"
    },
    "language_info": {
      "name": "python"
    }
  },
  "cells": [
    {
      "cell_type": "markdown",
      "metadata": {
        "id": "view-in-github",
        "colab_type": "text"
      },
      "source": [
        "<a href=\"https://colab.research.google.com/github/klest017/CSC221_klest001/blob/main/Assignment_9_10.ipynb\" target=\"_parent\"><img src=\"https://colab.research.google.com/assets/colab-badge.svg\" alt=\"Open In Colab\"/></a>"
      ]
    },
    {
      "cell_type": "code",
      "source": [
        "# Function to calculate the average of a list of numbers\n",
        "def calculate_average(numbers):\n",
        "    \"\"\"\n",
        "    Calculate the average of a list of numbers.\n",
        "\n",
        "    Parameters:\n",
        "    numbers (list of int/float): The list of numbers.\n",
        "\n",
        "    Returns:\n",
        "    float: The average of the numbers.\n",
        "    \"\"\"\n",
        "    if not numbers:\n",
        "        return 0\n",
        "    return sum(numbers) / len(numbers)\n",
        "\n",
        "# Test cases\n",
        "assert calculate_average([1, 2, 3, 4, 5]) == 3.0\n",
        "assert calculate_average([10, 20, 30, 40, 50]) == 30.0\n"
      ],
      "metadata": {
        "id": "MV9BdGid90iE"
      },
      "execution_count": null,
      "outputs": []
    },
    {
      "cell_type": "code",
      "source": [
        "# Function to reverse a string\n",
        "def reverse_string(text):\n",
        "    \"\"\"\n",
        "    Reverse a given string.\n",
        "\n",
        "    Parameters:\n",
        "    text (str): The input string.\n",
        "\n",
        "    Returns:\n",
        "    str: The reversed string.\n",
        "    \"\"\"\n",
        "    return text[::-1]\n",
        "\n",
        "# Test cases\n",
        "assert reverse_string(\"Plattsburgh\") == \"hgrubsttalP\"\n",
        "assert reverse_string(\"Island\") == \"dnalsI\"\n"
      ],
      "metadata": {
        "id": "7Gv3FTJ3GAxW"
      },
      "execution_count": null,
      "outputs": []
    },
    {
      "cell_type": "code",
      "source": [
        "# Function to find the maximum value in a dictionary\n",
        "def find_max_value(dictionary):\n",
        "    \"\"\"\n",
        "    Find the maximum value in a dictionary.\n",
        "\n",
        "    Parameters:\n",
        "    dictionary (dict): The input dictionary.\n",
        "\n",
        "    Returns:\n",
        "    any: The maximum value in the dictionary.\n",
        "    \"\"\"\n",
        "    if not dictionary:\n",
        "        return None\n",
        "    return max(dictionary.values())\n",
        "\n",
        "# Test cases\n",
        "assert find_max_value({'a': 10, 'b': 20, 'c': 15}) == 20\n",
        "assert find_max_value({'x': 100, 'y': 50, 'z': 75}) == 100\n",
        "\n",
        "\n"
      ],
      "metadata": {
        "id": "N0-5YzNnAvCe"
      },
      "execution_count": null,
      "outputs": []
    },
    {
      "cell_type": "code",
      "source": [
        "import random\n",
        "import string\n",
        "\n",
        "# Function to generate random password\n",
        "def generate_random_password(length):\n",
        "    \"\"\"\n",
        "    Generate a random password of a specified length.\n",
        "\n",
        "    Parameters:\n",
        "    length (int): The length of the password.\n",
        "\n",
        "    Returns:\n",
        "    str: The random password.\n",
        "    \"\"\"\n",
        "    characters = string.ascii_letters + string.digits + string.punctuation\n",
        "    password = ''.join(random.choice(characters) for _ in range(length))\n",
        "    return password\n",
        "\n",
        "# Test cases\n",
        "assert len(generate_random_password(17)) == 17\n",
        "assert len(generate_random_password(20)) == 20\n"
      ],
      "metadata": {
        "id": "AtrmbJn3Gkv_"
      },
      "execution_count": null,
      "outputs": []
    },
    {
      "cell_type": "code",
      "source": [
        "import random\n",
        "\n",
        "# Function to generate a random compliment\n",
        "def generate_compliment():\n",
        "    \"\"\"\n",
        "    Generate a random compliment from a list of compliments.\n",
        "\n",
        "    Returns:\n",
        "    str: Random compliment.\n",
        "    \"\"\"\n",
        "    compliments = [\n",
        "        \"You're something special\",\n",
        "        \"You're more fun than a ball pit filled with puppies!\",\n",
        "        \"You're one in a million!\",\n",
        "        \"Your smile is contagious!\",\n",
        "    ]\n",
        "    return random.choice(compliments)\n",
        "\n",
        "# Test case (no test case needed for randomness)\n",
        "print(generate_compliment())\n"
      ],
      "metadata": {
        "colab": {
          "base_uri": "https://localhost:8080/"
        },
        "id": "rXYo-ssrHoW-",
        "outputId": "f2d4b755-0ce2-435b-d498-273ff6c3effe"
      },
      "execution_count": null,
      "outputs": [
        {
          "output_type": "stream",
          "name": "stdout",
          "text": [
            "Your smile is contagious!\n"
          ]
        }
      ]
    },
    {
      "cell_type": "code",
      "source": [
        "# Function to check if a number is even or odd\n",
        "def check_even_odd(number):\n",
        "    \"\"\"\n",
        "    Check if a given number is even or odd.\n",
        "\n",
        "    Parameters:\n",
        "    number (int): The input number.\n",
        "\n",
        "    Returns:\n",
        "    str: \"Even\" if the number is even, \"Odd\" otherwise.\n",
        "    \"\"\"\n",
        "    if number % 2 == 0:\n",
        "        return \"Even\"\n",
        "    else:\n",
        "        return \"Odd\"\n",
        "\n",
        "# Test cases\n",
        "assert check_even_odd(10) == \"Even\"\n",
        "assert check_even_odd(7) == \"Odd\"\n"
      ],
      "metadata": {
        "id": "-vypKpCYHZnG"
      },
      "execution_count": null,
      "outputs": []
    },
    {
      "cell_type": "code",
      "source": [
        "# Function to find the maximum number in a list\n",
        "def find_maximum(numbers):\n",
        "    \"\"\"\n",
        "    Find the maximum number in a list of numbers.\n",
        "\n",
        "    Parameters:\n",
        "    numbers (list of int/float): The list of numbers.\n",
        "\n",
        "    Returns:\n",
        "    int/float: The maximum number.\n",
        "    \"\"\"\n",
        "    if not numbers:\n",
        "        return None\n",
        "    return max(numbers)\n",
        "\n",
        "# Test cases\n",
        "assert find_maximum([1, 5, 3, 9, 7]) == 9\n",
        "assert find_maximum([-10, -5, -20, -3]) == -3\n"
      ],
      "metadata": {
        "id": "0ge34s2GA2Tu"
      },
      "execution_count": null,
      "outputs": []
    },
    {
      "cell_type": "code",
      "source": [
        "# Function to calculate factorial of a non-negative integer\n",
        "def calculate_factorial(n):\n",
        "    \"\"\"\n",
        "    Calculate the factorial of a non-negative integer.\n",
        "\n",
        "    Parameters:\n",
        "    n (int): The input integer.\n",
        "\n",
        "    Returns:\n",
        "    int: The factorial of n.\n",
        "    \"\"\"\n",
        "    if n == 0:\n",
        "        return 1\n",
        "    else:\n",
        "        return n * calculate_factorial(n-1)\n",
        "\n",
        "# Test cases\n",
        "assert calculate_factorial(5) == 120\n",
        "assert calculate_factorial(0) == 1\n"
      ],
      "metadata": {
        "id": "2s7qbPkRG1Fl"
      },
      "execution_count": null,
      "outputs": []
    },
    {
      "cell_type": "code",
      "source": [
        "#TIY 9-6\n",
        "\n",
        "class Restaurant():\n",
        "    \"\"\"A class representing a restaurant.\"\"\"\n",
        "\n",
        "    def __init__(self, name, cuisine_type):\n",
        "        \"\"\"Initialize the restaurant.\"\"\"\n",
        "        self.name = name.title()\n",
        "        self.cuisine_type = cuisine_type\n",
        "        self.number_served = 0\n",
        "\n",
        "    def describe_restaurant(self):\n",
        "        \"\"\"Display a summary of the restaurant.\"\"\"\n",
        "        msg = self.name + \" serves wonderful \" + self.cuisine_type + \".\"\n",
        "        print(\"\\n\" + msg)\n",
        "\n",
        "    def open_restaurant(self):\n",
        "        \"\"\"Display a message that the restaurant is open.\"\"\"\n",
        "        msg = self.name + \" is open. Welcome!\"\n",
        "        print(\"\\n\" + msg)\n",
        "\n",
        "    def set_number_served(self, number_served):\n",
        "        \"\"\"Allow user to set the number of customers that have been served.\"\"\"\n",
        "        self.number_served = number_served\n",
        "\n",
        "    def increment_number_served(self, additional_served):\n",
        "        \"\"\"Allow user to increment the number of customers served.\"\"\"\n",
        "        self.number_served += additional_served\n",
        "\n",
        "\n",
        "class IceCreamStand(Restaurant):\n",
        "    \"\"\"Represent an ice cream stand.\"\"\"\n",
        "\n",
        "    def __init__(self, name, cuisine_type='ice_cream'):\n",
        "        \"\"\"Initialize an ice cream stand.\"\"\"\n",
        "        super().__init__(name, cuisine_type)\n",
        "        self.flavors = []\n",
        "\n",
        "    def show_flavors(self):\n",
        "        \"\"\"Display the flavors available.\"\"\"\n",
        "        print(\"\\nWe have the following flavors available:\")\n",
        "        for flavor in self.flavors:\n",
        "            print(\"- \" + flavor.title())\n",
        "\n",
        "yummy_stand = IceCreamStand('The Yummy Stand')\n",
        "yummy_stand.flavors = ['vanilla', 'chocolate', 'mint']\n",
        "\n",
        "yummy_stand.describe_restaurant()\n",
        "yummy_stand.show_flavors()"
      ],
      "metadata": {
        "colab": {
          "base_uri": "https://localhost:8080/"
        },
        "id": "FVkiczh3Bijr",
        "outputId": "16ca7edf-a105-4054-fcae-c405d3a9c08d"
      },
      "execution_count": 2,
      "outputs": [
        {
          "output_type": "stream",
          "name": "stdout",
          "text": [
            "\n",
            "The Yummy Stand serves wonderful ice_cream.\n",
            "\n",
            "We have the following flavors available:\n",
            "- Vanilla\n",
            "- Chocolate\n",
            "- Mint\n"
          ]
        }
      ]
    },
    {
      "cell_type": "code",
      "source": [
        "#TIY 9-7\n",
        "\n",
        "class User():\n",
        "    \"\"\"Represent a simple user profile.\"\"\"\n",
        "\n",
        "    def __init__(self, first_name, last_name, username, email, location):\n",
        "        \"\"\"Initialize the user.\"\"\"\n",
        "        self.first_name = first_name.title()\n",
        "        self.last_name = last_name.title()\n",
        "        self.username = username\n",
        "        self.email = email\n",
        "        self.location = location.title()\n",
        "        self.login_attempts = 0\n",
        "\n",
        "    def describe_user(self):\n",
        "        \"\"\"Display a summary of the user's information.\"\"\"\n",
        "        print(\"\\n\" + self.first_name + \" \" + self.last_name)\n",
        "        print(\"  Username: \" + self.username)\n",
        "        print(\"  Email: \" + self.email)\n",
        "        print(\"  Location: \" + self.location)\n",
        "\n",
        "    def greet_user(self):\n",
        "        \"\"\"Display a personalized greeting to the user.\"\"\"\n",
        "        print(\"\\nWelcome back, \" + self.username + \"!\")\n",
        "\n",
        "    def increment_login_attempts(self):\n",
        "        \"\"\"Increment the value of login_attempts.\"\"\"\n",
        "        self.login_attempts += 1\n",
        "\n",
        "    def reset_login_attempts(self):\n",
        "        \"\"\"Reset login_attempts to 0.\"\"\"\n",
        "        self.login_attempts = 0\n",
        "\n",
        "\n",
        "class Admin(User):\n",
        "    \"\"\"A user with administrative privileges.\"\"\"\n",
        "\n",
        "    def __init__(self, first_name, last_name, username, email, location):\n",
        "        \"\"\"Initialize the admin.\"\"\"\n",
        "        super().__init__(first_name, last_name, username, email, location)\n",
        "        self.privileges = []\n",
        "\n",
        "    def show_privileges(self):\n",
        "        \"\"\"Display the privileges this administrator has.\"\"\"\n",
        "        print(\"\\nPrivileges:\")\n",
        "        for privilege in self.privileges:\n",
        "            print(\"- \" + privilege)\n",
        "\n",
        "\n",
        "kayla = Admin('kayla', 'lester', 'k_lest001', 'klest001@plattsburgh.edu', 'new york')\n",
        "kayla.describe_user()\n",
        "\n",
        "kayla.privileges = [\n",
        "    'Designs student publications',\n",
        "    'Photography ',\n",
        "    'Sleeping in',\n",
        "    ]\n",
        "\n",
        "kayla.show_privileges()"
      ],
      "metadata": {
        "colab": {
          "base_uri": "https://localhost:8080/"
        },
        "id": "psiGASYDB9vC",
        "outputId": "b9f88a9b-fb14-4aa4-b642-195680683b2e"
      },
      "execution_count": 5,
      "outputs": [
        {
          "output_type": "stream",
          "name": "stdout",
          "text": [
            "\n",
            "Kayla Lester\n",
            "  Username: k_lest001\n",
            "  Email: klest001@plattsburgh.edu\n",
            "  Location: New York\n",
            "\n",
            "Privileges:\n",
            "- Designs student publications\n",
            "- Photography \n",
            "- Sleeping in\n"
          ]
        }
      ]
    }
  ]
}