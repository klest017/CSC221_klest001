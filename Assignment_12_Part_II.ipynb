{
  "nbformat": 4,
  "nbformat_minor": 0,
  "metadata": {
    "colab": {
      "provenance": [],
      "authorship_tag": "ABX9TyNPSijVqQXAq8sNWZHDBqra",
      "include_colab_link": true
    },
    "kernelspec": {
      "name": "python3",
      "display_name": "Python 3"
    },
    "language_info": {
      "name": "python"
    }
  },
  "cells": [
    {
      "cell_type": "markdown",
      "metadata": {
        "id": "view-in-github",
        "colab_type": "text"
      },
      "source": [
        "<a href=\"https://colab.research.google.com/github/klest017/CSC221_klest001/blob/main/Assignment_12_Part_II.ipynb\" target=\"_parent\"><img src=\"https://colab.research.google.com/assets/colab-badge.svg\" alt=\"Open In Colab\"/></a>"
      ]
    },
    {
      "cell_type": "code",
      "source": [
        "#PART 1\n",
        "\n",
        "class Money:\n",
        "    def __init__(self, value):\n",
        "        self.value = value\n",
        "\n",
        "    def __repr__(self):\n",
        "        return f\"{self.__class__.__name__}({self.value})\"\n",
        "\n",
        "\n",
        "class Bills(Money):\n",
        "    pass\n",
        "\n",
        "\n",
        "class Coins(Money):\n",
        "    pass\n",
        "\n",
        "\n",
        "class One(Bills):\n",
        "    def __init__(self):\n",
        "        super().__init__(1)\n",
        "\n",
        "\n",
        "class Five(Bills):\n",
        "    def __init__(self):\n",
        "        super().__init__(5)\n",
        "\n",
        "\n",
        "class Ten(Bills):\n",
        "    def __init__(self):\n",
        "        super().__init__(10)\n",
        "\n",
        "\n",
        "class Twenty(Bills):\n",
        "    def __init__(self):\n",
        "        super().__init__(20)\n",
        "\n",
        "\n",
        "class Penny(Coins):\n",
        "    def __init__(self):\n",
        "        super().__init__(0.01)\n",
        "\n",
        "\n",
        "class Nickel(Coins):\n",
        "    def __init__(self):\n",
        "        super().__init__(0.05)\n",
        "\n",
        "\n",
        "class Money:\n",
        "    def __init__(self, value):\n",
        "        self.value = value\n",
        "\n",
        "    def __repr__(self):\n",
        "        return f\"{self.__class__.__name__}({self.value})\"\n",
        "\n",
        "\n",
        "class Wallet:\n",
        "    def __init__(self):\n",
        "        self.money = []\n",
        "\n",
        "    def add_money(self, money):\n",
        "        self.money.append(money)\n",
        "\n",
        "    def total_value(self):\n",
        "        return sum(item.value for item in self.money)\n",
        "\n",
        "    def __repr__(self):\n",
        "        return f\"Wallet({self.money})\"\n",
        "\n",
        "\n",
        "# Test cases\n",
        "if __name__ == \"__main__\":\n",
        "    # Creating test wallet\n",
        "    wallet = Wallet()\n",
        "    wallet.add_money(Money(1))  # One Dollar Bill\n",
        "    wallet.add_money(Money(5))  # Five Dollar Bill\n",
        "    wallet.add_money(Money(10))  # Ten Dollar Bill\n",
        "    wallet.add_money(Money(20))  # Twenty Dollar Bill\n",
        "    wallet.add_money(Money(0.01))  # Penny\n",
        "    wallet.add_money(Money(0.05))  # Nickel\n",
        "    wallet.add_money(Money(0.10))  # Dime\n",
        "    wallet.add_money(Money(0.25))  # Quarter\n",
        "\n",
        "    # Printing wallet content\n",
        "    print(wallet)\n",
        "\n",
        "    # Calculating total value\n",
        "    print(\"Total value:\", wallet.total_value())\n",
        "\n"
      ],
      "metadata": {
        "colab": {
          "base_uri": "https://localhost:8080/"
        },
        "id": "Jhl8doZbrIHC",
        "outputId": "9380623c-2b61-4fb3-b3a0-9a36e126b4e9"
      },
      "execution_count": 3,
      "outputs": [
        {
          "output_type": "stream",
          "name": "stdout",
          "text": [
            "Wallet([Money(1), Money(5), Money(10), Money(20), Money(0.01), Money(0.05), Money(0.1), Money(0.25)])\n",
            "Total value: 36.41\n"
          ]
        }
      ]
    },
    {
      "cell_type": "code",
      "source": [
        "#EXAMPLE\n",
        "\n",
        "class Animal:\n",
        "    def __init__(self, species):\n",
        "        self.species = species\n",
        "\n",
        "    def make_sound(self):\n",
        "        return \"Some generic sound\"\n",
        "\n",
        "\n",
        "class Dog(Animal):\n",
        "    def __init__(self, breed):\n",
        "        super().__init__(\"Dog\")\n",
        "        self.breed = breed\n",
        "\n",
        "    def make_sound(self):\n",
        "        return \"Woof!\"\n",
        "\n",
        "\n",
        "class Cat(Animal):\n",
        "    def __init__(self, color):\n",
        "        super().__init__(\"Cat\")\n",
        "        self.color = color\n",
        "\n",
        "    def make_sound(self):\n",
        "        return \"Meow!\"\n",
        "\n",
        "\n",
        "class Bird(Animal):\n",
        "    def __init__(self, species, can_fly=False):\n",
        "        super().__init__(species)\n",
        "        self.can_fly = can_fly\n",
        "\n",
        "    def make_sound(self):\n",
        "        return \"Tweet!\"\n",
        "\n",
        "\n",
        "# Test cases\n",
        "if __name__ == \"__main__\":\n",
        "    dog = Dog(\"Golden Retriever\")\n",
        "    cat = Cat(\"Siamese\")\n",
        "    bird = Bird(\"Sparrow\", can_fly=True)\n",
        "\n",
        "    print(dog.species, \"of breed\", dog.breed, \"says\", dog.make_sound())\n",
        "    print(cat.species, \"of breed\", cat.color, \"says\", cat.make_sound())\n",
        "    print(bird.species, \"can fly:\", bird.can_fly, \"and says\", bird.make_sound())\n"
      ],
      "metadata": {
        "colab": {
          "base_uri": "https://localhost:8080/"
        },
        "id": "vzsAARKXxIGD",
        "outputId": "2d4b8171-636c-4d31-8bf1-ed71111b5c96"
      },
      "execution_count": null,
      "outputs": [
        {
          "output_type": "stream",
          "name": "stdout",
          "text": [
            "Dog of breed Golden Retriever says Woof!\n",
            "Cat of breed Siamese says Meow!\n",
            "Sparrow can fly: True and says Tweet!\n"
          ]
        }
      ]
    }
  ]
}