{
  "nbformat": 4,
  "nbformat_minor": 0,
  "metadata": {
    "colab": {
      "provenance": [],
      "authorship_tag": "ABX9TyOgilgI1/1LO2R5kV/Hlg46",
      "include_colab_link": true
    },
    "kernelspec": {
      "name": "python3",
      "display_name": "Python 3"
    },
    "language_info": {
      "name": "python"
    }
  },
  "cells": [
    {
      "cell_type": "markdown",
      "metadata": {
        "id": "view-in-github",
        "colab_type": "text"
      },
      "source": [
        "<a href=\"https://colab.research.google.com/github/klest017/CSC221_klest001/blob/main/Assignment_12_Part_II.ipynb\" target=\"_parent\"><img src=\"https://colab.research.google.com/assets/colab-badge.svg\" alt=\"Open In Colab\"/></a>"
      ]
    },
    {
      "cell_type": "code",
      "execution_count": 9,
      "metadata": {
        "id": "dzATI43cGK3U",
        "colab": {
          "base_uri": "https://localhost:8080/"
        },
        "outputId": "72ba1cd1-afbc-490a-ade9-22cedd4da9f2"
      },
      "outputs": [
        {
          "output_type": "stream",
          "name": "stdout",
          "text": [
            "Rectangle:\n",
            "Area: 20\n",
            "Perimeter: 18\n",
            "\n",
            "Circle:\n",
            "Area: 28.27\n",
            "Circumference: 18.85\n"
          ]
        }
      ],
      "source": [
        "#Colab Your Own Design\n",
        "\n",
        "import math\n",
        "\n",
        "class Shape:\n",
        "    def area(self):\n",
        "        pass\n",
        "\n",
        "    def perimeter(self):\n",
        "        pass\n",
        "\n",
        "\n",
        "class Rectangle(Shape):\n",
        "    def __init__(self, length, width):\n",
        "        self.length = length\n",
        "        self.width = width\n",
        "\n",
        "    def area(self):\n",
        "        return self.length * self.width\n",
        "\n",
        "    def perimeter(self):\n",
        "        return 2 * (self.length + self.width)\n",
        "\n",
        "\n",
        "class Circle(Shape):\n",
        "    def __init__(self, radius):\n",
        "        self.radius = radius\n",
        "\n",
        "    def area(self):\n",
        "        return math.pi * self.radius ** 2\n",
        "\n",
        "    def perimeter(self):\n",
        "        return 2 * math.pi * self.radius\n",
        "\n",
        "\n",
        "# Test cases\n",
        "if __name__ == \"__main__\":\n",
        "    rectangle = Rectangle(5, 4)\n",
        "    circle = Circle(3)\n",
        "\n",
        "    print(\"Rectangle:\")\n",
        "    print(\"Area:\", rectangle.area())\n",
        "    print(\"Perimeter:\", rectangle.perimeter())\n",
        "\n",
        "    print(\"\\nCircle:\")\n",
        "    print(\"Area:\", round(circle.area(), 2))\n",
        "    print(\"Circumference:\", round(circle.perimeter(), 2))\n",
        "\n"
      ]
    },
    {
      "cell_type": "code",
      "source": [
        "#EXAMPLE\n",
        "\n",
        "class Animal:\n",
        "    def __init__(self, species):\n",
        "        self.species = species\n",
        "\n",
        "    def make_sound(self):\n",
        "        return \"Some generic sound\"\n",
        "\n",
        "\n",
        "class Dog(Animal):\n",
        "    def __init__(self, breed):\n",
        "        super().__init__(\"Dog\")\n",
        "        self.breed = breed\n",
        "\n",
        "    def make_sound(self):\n",
        "        return \"Woof!\"\n",
        "\n",
        "\n",
        "class Cat(Animal):\n",
        "    def __init__(self, color):\n",
        "        super().__init__(\"Cat\")\n",
        "        self.color = color\n",
        "\n",
        "    def make_sound(self):\n",
        "        return \"Meow!\"\n",
        "\n",
        "\n",
        "class Bird(Animal):\n",
        "    def __init__(self, species, can_fly=False):\n",
        "        super().__init__(species)\n",
        "        self.can_fly = can_fly\n",
        "\n",
        "    def make_sound(self):\n",
        "        return \"Tweet!\"\n",
        "\n",
        "\n",
        "# Test cases\n",
        "if __name__ == \"__main__\":\n",
        "    dog = Dog(\"Golden Retriever\")\n",
        "    cat = Cat(\"Siamese\")\n",
        "    bird = Bird(\"Sparrow\", can_fly=True)\n",
        "\n",
        "    print(dog.species, \"of breed\", dog.breed, \"says\", dog.make_sound())\n",
        "    print(cat.species, \"of breed\", cat.color, \"says\", cat.make_sound())\n",
        "    print(bird.species, \"can fly:\", bird.can_fly, \"and says\", bird.make_sound())\n"
      ],
      "metadata": {
        "colab": {
          "base_uri": "https://localhost:8080/"
        },
        "id": "vzsAARKXxIGD",
        "outputId": "2d4b8171-636c-4d31-8bf1-ed71111b5c96"
      },
      "execution_count": 2,
      "outputs": [
        {
          "output_type": "stream",
          "name": "stdout",
          "text": [
            "Dog of breed Golden Retriever says Woof!\n",
            "Cat of breed Siamese says Meow!\n",
            "Sparrow can fly: True and says Tweet!\n"
          ]
        }
      ]
    }
  ]
}