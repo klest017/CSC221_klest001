{
  "nbformat": 4,
  "nbformat_minor": 0,
  "metadata": {
    "colab": {
      "provenance": [],
      "authorship_tag": "ABX9TyOy5HmOtOGu1KgaVURC0j3Y",
      "include_colab_link": true
    },
    "kernelspec": {
      "name": "python3",
      "display_name": "Python 3"
    },
    "language_info": {
      "name": "python"
    }
  },
  "cells": [
    {
      "cell_type": "markdown",
      "metadata": {
        "id": "view-in-github",
        "colab_type": "text"
      },
      "source": [
        "<a href=\"https://colab.research.google.com/github/klest017/CSC221_klest001/blob/main/Assignment8.ipynb\" target=\"_parent\"><img src=\"https://colab.research.google.com/assets/colab-badge.svg\" alt=\"Open In Colab\"/></a>"
      ]
    },
    {
      "cell_type": "code",
      "execution_count": 1,
      "metadata": {
        "colab": {
          "base_uri": "https://localhost:8080/"
        },
        "id": "DqF11F5JDB0J",
        "outputId": "060a6cf7-6448-4887-e2ea-dcefefdb6b81"
      },
      "outputs": [
        {
          "output_type": "stream",
          "name": "stdout",
          "text": [
            "The Hunger Games is one of my favorite books.\n"
          ]
        }
      ],
      "source": [
        "#TIY 8-2\n",
        "\n",
        "def favorite_book(title):\n",
        "    \"\"\"Display a message about someone's favorite book.\"\"\"\n",
        "    print(title + \" is one of my favorite books.\")\n",
        "\n",
        "favorite_book('The Hunger Games')"
      ]
    },
    {
      "cell_type": "code",
      "source": [
        "#TIY 8-3\n",
        "\n",
        "def make_shirt(size, message):\n",
        "    \"\"\"Give summary of the shirt that's going to be made.\"\"\"\n",
        "    print(\"\\nI'm going to make a \" + size + \" t-shirt.\")\n",
        "    print('It will say, \"' + message + '\"')\n",
        "\n",
        "make_shirt('small', 'I love Anime!')\n",
        "make_shirt(message=\"Don't give up.\", size='large')"
      ],
      "metadata": {
        "colab": {
          "base_uri": "https://localhost:8080/"
        },
        "id": "pQJ-lnVtIPCl",
        "outputId": "6d87cfa9-4125-4971-a380-d20446a58f59"
      },
      "execution_count": 2,
      "outputs": [
        {
          "output_type": "stream",
          "name": "stdout",
          "text": [
            "\n",
            "I'm going to make a small t-shirt.\n",
            "It will say, \"I love Anime!\"\n",
            "\n",
            "I'm going to make a large t-shirt.\n",
            "It will say, \"Don't give up.\"\n"
          ]
        }
      ]
    },
    {
      "cell_type": "code",
      "source": [
        "#TIY 8-4\n",
        "\n",
        "def make_shirt(size='large', message='I love Anime!'):\n",
        "    \"\"\"Give summary of the shirt that's going to be made.\"\"\"\n",
        "    print(\"\\nI'm going to make a \" + size + \" t-shirt.\")\n",
        "    print('It will have the words, \"' + message + '\"')\n",
        "\n",
        "make_shirt()\n",
        "make_shirt(size='large')\n",
        "make_shirt('medium', 'AOT.')"
      ],
      "metadata": {
        "colab": {
          "base_uri": "https://localhost:8080/"
        },
        "id": "7LllylPLIPd3",
        "outputId": "0b89419c-20ff-469d-efa6-eaf73a266a5c"
      },
      "execution_count": 3,
      "outputs": [
        {
          "output_type": "stream",
          "name": "stdout",
          "text": [
            "\n",
            "I'm going to make a large t-shirt.\n",
            "It will have the words, \"I love Anime!\"\n",
            "\n",
            "I'm going to make a large t-shirt.\n",
            "It will have the words, \"I love Anime!\"\n",
            "\n",
            "I'm going to make a medium t-shirt.\n",
            "It will have the words, \"AOT.\"\n"
          ]
        }
      ]
    },
    {
      "cell_type": "code",
      "source": [
        "def func8(a, b, c=42):\n",
        "    # Calculate the sum of a, b, and c\n",
        "    sum_ = a + b + c\n",
        "\n",
        "    # Calculate the product of a, b, and c\n",
        "    product = a * b * c\n",
        "\n",
        "    # Sort the numbers\n",
        "    sorted_numbers = [a, b, c]\n",
        "    sorted_numbers.sort()\n",
        "\n",
        "    # Return sum, product, and sorted list\n",
        "    return sum_, product, sorted_numbers\n",
        "\n",
        "# Testing the function\n",
        "print(func8(2, 3))         # Output: (47, 252, [2, 3, 42])\n",
        "print(func8(2, 3, 5))       # Output: (10, 30, [2, 3, 5])\n",
        "print(func8(5, 3, 9))       # Output: (17, 135, [3, 5, 9])\n",
        "print(func8(-1, -2, -3))    # Output: (-6, -6, [-3, -2, -1])\n",
        "print(func8(0, 0, 0))       # Output: (0, 0, [0, 0, 0])\n",
        "\n"
      ],
      "metadata": {
        "colab": {
          "base_uri": "https://localhost:8080/"
        },
        "id": "RQG-68jwSKYj",
        "outputId": "eb2a8df4-48c1-4709-f6a6-5697c3198b53"
      },
      "execution_count": 3,
      "outputs": [
        {
          "output_type": "stream",
          "name": "stdout",
          "text": [
            "(47, 252, [2, 3, 42])\n",
            "(10, 30, [2, 3, 5])\n",
            "(17, 135, [3, 5, 9])\n",
            "(-6, -6, [-3, -2, -1])\n",
            "(0, 0, [0, 0, 0])\n"
          ]
        }
      ]
    }
  ]
}