{
  "nbformat": 4,
  "nbformat_minor": 0,
  "metadata": {
    "colab": {
      "provenance": [],
      "authorship_tag": "ABX9TyOrciKcZ5JcqxqHvDINCcPi",
      "include_colab_link": true
    },
    "kernelspec": {
      "name": "python3",
      "display_name": "Python 3"
    },
    "language_info": {
      "name": "python"
    }
  },
  "cells": [
    {
      "cell_type": "markdown",
      "metadata": {
        "id": "view-in-github",
        "colab_type": "text"
      },
      "source": [
        "<a href=\"https://colab.research.google.com/github/klest017/CSC221_klest001/blob/main/Quiz2.ipynb\" target=\"_parent\"><img src=\"https://colab.research.google.com/assets/colab-badge.svg\" alt=\"Open In Colab\"/></a>"
      ]
    },
    {
      "cell_type": "code",
      "execution_count": null,
      "metadata": {
        "colab": {
          "base_uri": "https://localhost:8080/"
        },
        "id": "nI9EUFrGPYqc",
        "outputId": "5ef6ddcd-a7d7-4a7b-f673-fb1cb0ed7804"
      },
      "outputs": [
        {
          "output_type": "stream",
          "name": "stdout",
          "text": [
            "True\n"
          ]
        }
      ],
      "source": [
        "# 'and'keyword\n",
        "x = 5\n",
        "y = 10\n",
        "result = (x > 0) and (y < 15)\n",
        "print(result)  # Output will be true\n"
      ]
    },
    {
      "cell_type": "code",
      "source": [
        "# 'as' keyword\n",
        "import math as m\n",
        "print(m.sqrt(64))  # Output will be 8.0\n"
      ],
      "metadata": {
        "colab": {
          "base_uri": "https://localhost:8080/"
        },
        "id": "VnmoEnXLQXPG",
        "outputId": "d0dd6a3e-8c5e-4fbf-e3a2-a4013ec76f82"
      },
      "execution_count": null,
      "outputs": [
        {
          "output_type": "stream",
          "name": "stdout",
          "text": [
            "8.0\n"
          ]
        }
      ]
    },
    {
      "cell_type": "code",
      "source": [
        "# 'assert' keyword\n",
        "x = 17\n",
        "assert x == 17, \"x should be equal to 17\"\n"
      ],
      "metadata": {
        "id": "vSrpxQ-SRiHA"
      },
      "execution_count": null,
      "outputs": []
    },
    {
      "cell_type": "code",
      "source": [
        "# 'break' keyword\n",
        "for i in range(5):\n",
        "    if i == 3:\n",
        "        break\n",
        "    print(i)\n"
      ],
      "metadata": {
        "colab": {
          "base_uri": "https://localhost:8080/"
        },
        "id": "fTeXyZ9_S4fx",
        "outputId": "56f09f71-3549-4589-fe03-9aa1e0661429"
      },
      "execution_count": null,
      "outputs": [
        {
          "output_type": "stream",
          "name": "stdout",
          "text": [
            "0\n",
            "1\n",
            "2\n"
          ]
        }
      ]
    },
    {
      "cell_type": "code",
      "source": [
        "# 'class' keyword\n",
        "class mycurrentClass:\n",
        "    def __init__(self, name):\n",
        "        self.name = name\n",
        "\n",
        "    def greet(self):\n",
        "        print(\"hello, \" + self.name + \"!! ^.^\")\n",
        "\n",
        "obj = mycurrentClass(\"chlecy\")\n",
        "obj.greet()\n"
      ],
      "metadata": {
        "colab": {
          "base_uri": "https://localhost:8080/"
        },
        "id": "2rYmqIx3TMzk",
        "outputId": "77b17123-8d91-48e4-ba45-6aad638d04ac"
      },
      "execution_count": null,
      "outputs": [
        {
          "output_type": "stream",
          "name": "stdout",
          "text": [
            "hello, chlecy!! ^.^\n"
          ]
        }
      ]
    },
    {
      "cell_type": "code",
      "source": [
        "# 'continue' keyword\n",
        "for i in range(10):\n",
        "    if i == 2:\n",
        "        continue\n",
        "    print(i)\n"
      ],
      "metadata": {
        "colab": {
          "base_uri": "https://localhost:8080/"
        },
        "id": "P3QUTqfATrcY",
        "outputId": "9bcd3701-00a0-4f40-f6fa-c5f725d3eca9"
      },
      "execution_count": null,
      "outputs": [
        {
          "output_type": "stream",
          "name": "stdout",
          "text": [
            "0\n",
            "1\n",
            "3\n",
            "4\n",
            "5\n",
            "6\n",
            "7\n",
            "8\n",
            "9\n"
          ]
        }
      ]
    },
    {
      "cell_type": "code",
      "source": [
        "# 'def' keyword\n",
        "def greet(name):\n",
        "    print(\"Good evening, \" + name + \".\")\n",
        "greet(\"Killua\")\n"
      ],
      "metadata": {
        "colab": {
          "base_uri": "https://localhost:8080/"
        },
        "id": "T4fGEZNZUVwh",
        "outputId": "7c1efdbd-fff0-4480-c7d2-6c4bf517c0f8"
      },
      "execution_count": null,
      "outputs": [
        {
          "output_type": "stream",
          "name": "stdout",
          "text": [
            "Good evening, Killua.\n"
          ]
        }
      ]
    },
    {
      "cell_type": "code",
      "source": [
        "# 'del' keyword\n",
        "my_list = [1, 2, 3]\n",
        "del my_list[1]\n",
        "print(my_list)\n"
      ],
      "metadata": {
        "colab": {
          "base_uri": "https://localhost:8080/"
        },
        "id": "dCCE9gP9UlQ0",
        "outputId": "9710e56e-232c-474b-e8b0-cf92ec61d01f"
      },
      "execution_count": null,
      "outputs": [
        {
          "output_type": "stream",
          "name": "stdout",
          "text": [
            "[1, 3]\n"
          ]
        }
      ]
    },
    {
      "cell_type": "code",
      "source": [
        "# 'elif' keyword\n",
        "x = -32\n",
        "if x < 0:\n",
        "    print(\"x is negative\")\n",
        "elif x == 0:\n",
        "    print(\"x is zero\")\n",
        "else:\n",
        "    print(\"x is positive\")\n",
        "\n",
        "# Output is negative\n"
      ],
      "metadata": {
        "colab": {
          "base_uri": "https://localhost:8080/"
        },
        "id": "9xsPpfnuVZPB",
        "outputId": "8d7923d0-72ca-43c1-917a-9374e21dfbf3"
      },
      "execution_count": null,
      "outputs": [
        {
          "output_type": "stream",
          "name": "stdout",
          "text": [
            "x is negative\n"
          ]
        }
      ]
    },
    {
      "cell_type": "code",
      "source": [
        "# 'else' keyword\n",
        "\n",
        "x = 35\n",
        "if x > 27:\n",
        "    print(\"35 is greater than 27\")\n",
        "else:\n",
        "    print(\"25 is not greater than 27\")\n",
        "# Output is that 35 is greater than 27\n"
      ],
      "metadata": {
        "colab": {
          "base_uri": "https://localhost:8080/"
        },
        "id": "m50gb3uoVxzr",
        "outputId": "f8924029-1c54-45c5-8b48-18164e154cb0"
      },
      "execution_count": null,
      "outputs": [
        {
          "output_type": "stream",
          "name": "stdout",
          "text": [
            "35 is greater than 27\n"
          ]
        }
      ]
    },
    {
      "cell_type": "code",
      "source": [
        "# 'except' keyword\n",
        "try:\n",
        "    result = 10 / 0\n",
        "except ZeroDivisionError as e:\n",
        "    print(\"Error:\", e)\n",
        "\n"
      ],
      "metadata": {
        "colab": {
          "base_uri": "https://localhost:8080/"
        },
        "id": "sQSnV9A-Wetq",
        "outputId": "a590d51b-5fe7-4005-c3d6-f5dfdf7ecc8e"
      },
      "execution_count": null,
      "outputs": [
        {
          "output_type": "stream",
          "name": "stdout",
          "text": [
            "Error: division by zero\n"
          ]
        }
      ]
    },
    {
      "cell_type": "code",
      "source": [
        "# 'finally' keyword\n",
        "try:\n",
        "    result = 10 / 0\n",
        "except ZeroDivisionError:\n",
        "    print(\"Cannot be divided by zero\")\n",
        "finally:\n",
        "    print(\"This will always execute\")\n",
        "\n"
      ],
      "metadata": {
        "colab": {
          "base_uri": "https://localhost:8080/"
        },
        "id": "gqe9ZIhnW9pe",
        "outputId": "32fdcab3-58f7-4076-f398-51353f42ea55"
      },
      "execution_count": null,
      "outputs": [
        {
          "output_type": "stream",
          "name": "stdout",
          "text": [
            "Cannot be divided by zero\n",
            "This will always execute\n"
          ]
        }
      ]
    },
    {
      "cell_type": "code",
      "source": [
        "# 'for' keyword\n",
        "for i in range(15):\n",
        "    print(i)\n"
      ],
      "metadata": {
        "colab": {
          "base_uri": "https://localhost:8080/"
        },
        "id": "PKohbNRDYyHC",
        "outputId": "48e6f032-6d7f-4c7d-854f-f0863c79547f"
      },
      "execution_count": null,
      "outputs": [
        {
          "output_type": "stream",
          "name": "stdout",
          "text": [
            "0\n",
            "1\n",
            "2\n",
            "3\n",
            "4\n",
            "5\n",
            "6\n",
            "7\n",
            "8\n",
            "9\n",
            "10\n",
            "11\n",
            "12\n",
            "13\n",
            "14\n"
          ]
        }
      ]
    },
    {
      "cell_type": "code",
      "source": [
        "# 'from' keyword\n",
        "\n",
        "from math import sqrt\n",
        "print(sqrt(25))\n",
        "\n",
        "#Output will be 5.0"
      ],
      "metadata": {
        "colab": {
          "base_uri": "https://localhost:8080/"
        },
        "id": "CMYolbr_ZBnW",
        "outputId": "24022c5f-c67a-401a-a533-2733dfb69430"
      },
      "execution_count": null,
      "outputs": [
        {
          "output_type": "stream",
          "name": "stdout",
          "text": [
            "5.0\n"
          ]
        }
      ]
    },
    {
      "cell_type": "code",
      "source": [
        "# 'global' keyword\n",
        "x = 5\n",
        "def my_func():\n",
        "    global x\n",
        "    x = 10\n",
        "my_func()\n",
        "print(x)  # Output will be 10\n"
      ],
      "metadata": {
        "colab": {
          "base_uri": "https://localhost:8080/"
        },
        "id": "T48zWcikZvr2",
        "outputId": "0fb00dde-3b21-40ff-d537-3d1e19aeffa3"
      },
      "execution_count": null,
      "outputs": [
        {
          "output_type": "stream",
          "name": "stdout",
          "text": [
            "10\n"
          ]
        }
      ]
    },
    {
      "cell_type": "code",
      "source": [
        "# 'if' keyword\n",
        "x = 5\n",
        "if x > 0:\n",
        "    print(\"x is positive\")\n",
        "# Output x is positive\n"
      ],
      "metadata": {
        "id": "QDpbqQPZaCkS"
      },
      "execution_count": null,
      "outputs": []
    },
    {
      "cell_type": "code",
      "source": [
        "# 'in' keyword\n",
        "my_list = [1, 2, 3]\n",
        "print(2 in my_list)  # Output will be true\n"
      ],
      "metadata": {
        "id": "emWkp7D-bcNc"
      },
      "execution_count": null,
      "outputs": []
    },
    {
      "cell_type": "code",
      "source": [
        "# 'is' keyword\n",
        "x = [5, 3, 8]\n",
        "y = x\n",
        "print(x is y)  # Output will be true\n",
        "\n"
      ],
      "metadata": {
        "colab": {
          "base_uri": "https://localhost:8080/"
        },
        "id": "_ohHIRIlcX4w",
        "outputId": "66dc07a9-f3bb-4996-9918-7a52b6021992"
      },
      "execution_count": null,
      "outputs": [
        {
          "output_type": "stream",
          "name": "stdout",
          "text": [
            "True\n"
          ]
        }
      ]
    },
    {
      "cell_type": "code",
      "source": [
        "# 'lambda' keyword\n",
        "square = lambda x: x ** 2\n",
        "print(square(3))  # Output will be 9\n"
      ],
      "metadata": {
        "colab": {
          "base_uri": "https://localhost:8080/"
        },
        "id": "8Cym0sRKc9Y_",
        "outputId": "afafb927-fa68-4992-fccf-336509d3ccaf"
      },
      "execution_count": null,
      "outputs": [
        {
          "output_type": "stream",
          "name": "stdout",
          "text": [
            "9\n"
          ]
        }
      ]
    },
    {
      "cell_type": "code",
      "source": [
        "# 'None' keyword\n",
        "x = None\n",
        "if x is None:\n",
        "    print(\"x has no value\")\n",
        "\n"
      ],
      "metadata": {
        "colab": {
          "base_uri": "https://localhost:8080/"
        },
        "id": "STIGnurydhmO",
        "outputId": "b31ee8b4-c79c-4f14-d4d9-814e6a224b83"
      },
      "execution_count": null,
      "outputs": [
        {
          "output_type": "stream",
          "name": "stdout",
          "text": [
            "x has no value\n"
          ]
        }
      ]
    },
    {
      "cell_type": "code",
      "source": [
        "# 'not' keyword\n",
        "x = False\n",
        "result = not x\n",
        "print(result)\n"
      ],
      "metadata": {
        "colab": {
          "base_uri": "https://localhost:8080/"
        },
        "id": "irjgheCqdzTW",
        "outputId": "5ed34d9f-e1ce-4ee6-c93f-e9be7e4fe0e5"
      },
      "execution_count": null,
      "outputs": [
        {
          "output_type": "stream",
          "name": "stdout",
          "text": [
            "True\n"
          ]
        }
      ]
    },
    {
      "cell_type": "code",
      "source": [
        "# 'or' keyword\n",
        "x = False\n",
        "y = True\n",
        "result = x or y\n",
        "print(result)\n"
      ],
      "metadata": {
        "colab": {
          "base_uri": "https://localhost:8080/"
        },
        "id": "PFllq5MhfiwP",
        "outputId": "9802e4fc-84cb-4187-b044-5c6842864ae6"
      },
      "execution_count": null,
      "outputs": [
        {
          "output_type": "stream",
          "name": "stdout",
          "text": [
            "True\n"
          ]
        }
      ]
    },
    {
      "cell_type": "code",
      "source": [
        "# 'pass' keyword\n",
        "def my_function():\n",
        "    pass\n"
      ],
      "metadata": {
        "id": "77v3QOWsfqjb"
      },
      "execution_count": null,
      "outputs": []
    },
    {
      "cell_type": "code",
      "source": [
        "# 'raise' keyword\n",
        "x = -9\n",
        "if x < 0:\n",
        "    raise ValueError(\"x cannot be negative\")\n"
      ],
      "metadata": {
        "colab": {
          "base_uri": "https://localhost:8080/",
          "height": 183
        },
        "id": "3OhJM09tf6U1",
        "outputId": "adf6981a-d352-49cc-a6ee-1850bb1277be"
      },
      "execution_count": null,
      "outputs": [
        {
          "output_type": "error",
          "ename": "ValueError",
          "evalue": "x cannot be negative",
          "traceback": [
            "\u001b[0;31m---------------------------------------------------------------------------\u001b[0m",
            "\u001b[0;31mValueError\u001b[0m                                Traceback (most recent call last)",
            "\u001b[0;32m<ipython-input-43-b30caa0de3f8>\u001b[0m in \u001b[0;36m<cell line: 3>\u001b[0;34m()\u001b[0m\n\u001b[1;32m      2\u001b[0m \u001b[0mx\u001b[0m \u001b[0;34m=\u001b[0m \u001b[0;34m-\u001b[0m\u001b[0;36m9\u001b[0m\u001b[0;34m\u001b[0m\u001b[0;34m\u001b[0m\u001b[0m\n\u001b[1;32m      3\u001b[0m \u001b[0;32mif\u001b[0m \u001b[0mx\u001b[0m \u001b[0;34m<\u001b[0m \u001b[0;36m0\u001b[0m\u001b[0;34m:\u001b[0m\u001b[0;34m\u001b[0m\u001b[0;34m\u001b[0m\u001b[0m\n\u001b[0;32m----> 4\u001b[0;31m     \u001b[0;32mraise\u001b[0m \u001b[0mValueError\u001b[0m\u001b[0;34m(\u001b[0m\u001b[0;34m\"x cannot be negative\"\u001b[0m\u001b[0;34m)\u001b[0m\u001b[0;34m\u001b[0m\u001b[0;34m\u001b[0m\u001b[0m\n\u001b[0m",
            "\u001b[0;31mValueError\u001b[0m: x cannot be negative"
          ]
        }
      ]
    },
    {
      "cell_type": "code",
      "source": [
        "# 'return' keyword\n",
        "def add(x, y):\n",
        "    return x + y\n",
        "print(add(12, 90))\n"
      ],
      "metadata": {
        "colab": {
          "base_uri": "https://localhost:8080/"
        },
        "id": "uo-DiKXQgNfh",
        "outputId": "159f5951-c96a-4243-e97d-bb9cad360ad2"
      },
      "execution_count": null,
      "outputs": [
        {
          "output_type": "stream",
          "name": "stdout",
          "text": [
            "102\n"
          ]
        }
      ]
    },
    {
      "cell_type": "code",
      "source": [
        "# 'try' keyword\n",
        "try:\n",
        "    result = 10 / 0\n",
        "except ZeroDivisionError:\n",
        "    print(\"Cannot divide by zero\")\n"
      ],
      "metadata": {
        "id": "LeefM3UNgrGP"
      },
      "execution_count": null,
      "outputs": []
    },
    {
      "cell_type": "code",
      "source": [
        "# 'while' keyword\n",
        "x = 0\n",
        "while x < 5:\n",
        "    print(x)\n",
        "    x += 2\n"
      ],
      "metadata": {
        "colab": {
          "base_uri": "https://localhost:8080/"
        },
        "id": "LhNZzQ5whbwr",
        "outputId": "ad081c62-22ff-484e-eb4e-cbce2f882a85"
      },
      "execution_count": null,
      "outputs": [
        {
          "output_type": "stream",
          "name": "stdout",
          "text": [
            "0\n",
            "2\n",
            "4\n"
          ]
        }
      ]
    },
    {
      "cell_type": "code",
      "source": [
        "# 'with' keyword\n",
        "with open(\"Assignment2.txt\", \"r\") as file:\n",
        "    data = file.read()\n"
      ],
      "metadata": {
        "colab": {
          "base_uri": "https://localhost:8080/",
          "height": 183
        },
        "id": "GpCl_dmSh_1Q",
        "outputId": "bd07684a-b385-4ccc-d33a-59381dbd7564"
      },
      "execution_count": null,
      "outputs": [
        {
          "output_type": "error",
          "ename": "FileNotFoundError",
          "evalue": "[Errno 2] No such file or directory: 'Assignment2.txt'",
          "traceback": [
            "\u001b[0;31m---------------------------------------------------------------------------\u001b[0m",
            "\u001b[0;31mFileNotFoundError\u001b[0m                         Traceback (most recent call last)",
            "\u001b[0;32m<ipython-input-49-1e16a1d06902>\u001b[0m in \u001b[0;36m<cell line: 2>\u001b[0;34m()\u001b[0m\n\u001b[1;32m      1\u001b[0m \u001b[0;31m# 'with' keyword\u001b[0m\u001b[0;34m\u001b[0m\u001b[0;34m\u001b[0m\u001b[0m\n\u001b[0;32m----> 2\u001b[0;31m \u001b[0;32mwith\u001b[0m \u001b[0mopen\u001b[0m\u001b[0;34m(\u001b[0m\u001b[0;34m\"Assignment2.txt\"\u001b[0m\u001b[0;34m,\u001b[0m \u001b[0;34m\"r\"\u001b[0m\u001b[0;34m)\u001b[0m \u001b[0;32mas\u001b[0m \u001b[0mfile\u001b[0m\u001b[0;34m:\u001b[0m\u001b[0;34m\u001b[0m\u001b[0;34m\u001b[0m\u001b[0m\n\u001b[0m\u001b[1;32m      3\u001b[0m     \u001b[0mdata\u001b[0m \u001b[0;34m=\u001b[0m \u001b[0mfile\u001b[0m\u001b[0;34m.\u001b[0m\u001b[0mread\u001b[0m\u001b[0;34m(\u001b[0m\u001b[0;34m)\u001b[0m\u001b[0;34m\u001b[0m\u001b[0;34m\u001b[0m\u001b[0m\n",
            "\u001b[0;31mFileNotFoundError\u001b[0m: [Errno 2] No such file or directory: 'Assignment2.txt'"
          ]
        }
      ]
    },
    {
      "cell_type": "code",
      "source": [
        "# 'yield' keyword\n",
        "def my_generator():\n",
        "    yield 28\n",
        "    yield 56\n",
        "    yield 73\n",
        "for value in my_generator():\n",
        "    print(value)\n"
      ],
      "metadata": {
        "colab": {
          "base_uri": "https://localhost:8080/"
        },
        "id": "eLhSQyG-inJf",
        "outputId": "557a39bc-5c98-4249-ece4-87c648a66dea"
      },
      "execution_count": null,
      "outputs": [
        {
          "output_type": "stream",
          "name": "stdout",
          "text": [
            "28\n",
            "56\n",
            "73\n"
          ]
        }
      ]
    },
    {
      "cell_type": "code",
      "source": [
        "# 'True' keyword\n",
        "x = True\n",
        "if x:\n",
        "    print(\"x is True\")\n",
        "\n"
      ],
      "metadata": {
        "colab": {
          "base_uri": "https://localhost:8080/"
        },
        "id": "mLQyadjkj21W",
        "outputId": "46c3c46d-ef04-478c-d08a-4dc5e52cbf52"
      },
      "execution_count": null,
      "outputs": [
        {
          "output_type": "stream",
          "name": "stdout",
          "text": [
            "x is True\n"
          ]
        }
      ]
    },
    {
      "cell_type": "code",
      "source": [],
      "metadata": {
        "id": "fKGY2yTrkCMR"
      },
      "execution_count": null,
      "outputs": []
    }
  ]
}