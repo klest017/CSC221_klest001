{
  "nbformat": 4,
  "nbformat_minor": 0,
  "metadata": {
    "colab": {
      "provenance": [],
      "authorship_tag": "ABX9TyMl4xMA3ltTEy5ewX8BGVW1",
      "include_colab_link": true
    },
    "kernelspec": {
      "name": "python3",
      "display_name": "Python 3"
    },
    "language_info": {
      "name": "python"
    }
  },
  "cells": [
    {
      "cell_type": "markdown",
      "metadata": {
        "id": "view-in-github",
        "colab_type": "text"
      },
      "source": [
        "<a href=\"https://colab.research.google.com/github/klest017/CSC221_klest001/blob/main/Assignment_7.ipynb\" target=\"_parent\"><img src=\"https://colab.research.google.com/assets/colab-badge.svg\" alt=\"Open In Colab\"/></a>"
      ]
    },
    {
      "cell_type": "code",
      "execution_count": null,
      "metadata": {
        "colab": {
          "base_uri": "https://localhost:8080/"
        },
        "id": "znq4VFVh0-yk",
        "outputId": "c40783d1-0e4a-4fec-9e7b-5179068e6b0c"
      },
      "outputs": [
        {
          "output_type": "stream",
          "name": "stdout",
          "text": [
            "Kayla\n",
            "Lester\n",
            "20\n",
            "New York\n"
          ]
        }
      ],
      "source": [
        "#TIY 6-1\n",
        "\n",
        "person = {\n",
        "    'first_name': 'Kayla',\n",
        "    'last_name': 'Lester',\n",
        "    'age': 20,\n",
        "    'city': 'New York',\n",
        "    }\n",
        "\n",
        "print(person['first_name'])\n",
        "print(person['last_name'])\n",
        "print(person['age'])\n",
        "print(person['city'])"
      ]
    },
    {
      "cell_type": "code",
      "source": [
        "#TIY 6-2\n",
        "\n",
        "favorite_numbers = {\n",
        "    'chelcy': 17,\n",
        "    'stephanie': 15,\n",
        "    'gus': 3,\n",
        "    'mia': 31,\n",
        "    'andrea': 222,\n",
        "    }\n",
        "\n",
        "num = favorite_numbers['chelcy']\n",
        "print(f\"Chelcy's favorite number is {num}.\")\n",
        "\n",
        "num = favorite_numbers['stephanie']\n",
        "print(f\"Stephanie's favorite number is {num}.\")\n",
        "\n",
        "num = favorite_numbers['gus']\n",
        "print(f\"Gus's favorite number is {num}.\")\n",
        "\n",
        "num = favorite_numbers['mia']\n",
        "print(f\"Mia's favorite number is {num}.\")\n",
        "\n",
        "num = favorite_numbers['andrea']\n",
        "print(f\"Andrea's favorite number is {num}.\")\n"
      ],
      "metadata": {
        "colab": {
          "base_uri": "https://localhost:8080/"
        },
        "id": "_xBMywcO6bT7",
        "outputId": "17098ece-ab1e-4729-83ca-6d5e93401140"
      },
      "execution_count": null,
      "outputs": [
        {
          "output_type": "stream",
          "name": "stdout",
          "text": [
            "Chelcy's favorite number is 17.\n",
            "Stephanie's favorite number is 15.\n",
            "Gus's favorite number is 3.\n",
            "Mia's favorite number is 31.\n",
            "Andrea's favorite number is 222.\n"
          ]
        }
      ]
    },
    {
      "cell_type": "code",
      "source": [
        "#TIY 6-3\n",
        "\n",
        "glossary = {\n",
        "    'if-elif-else': 'Conditional statements that provide you with the decision making that is needed for a particular condition.',\n",
        "    'comment': 'A note in a program that the Python interpreter ignores.',\n",
        "    'list': 'Used to store multiple objects together in a particular order .',\n",
        "    'loop': 'Work through a collection of items, one at a time.',\n",
        "    'dictionary': \"A collection of key-value pairs, the act or process of writing a program.\",\n",
        "    'variable': \"Is a placeholder used for storing data. The type of data may be numerical, string or any other type that the language supports.\",\n",
        "    'input': \"To provide and give something to the computer.\",\n",
        "    }\n",
        "\n",
        "word = 'if-elif-else'\n",
        "print(f\"\\n{word.title()}: {glossary[word]}\")\n",
        "\n",
        "word = 'comment'\n",
        "print(f\"\\n{word.title()}: {glossary[word]}\")\n",
        "\n",
        "word = 'list'\n",
        "print(f\"\\n{word.title()}: {glossary[word]}\")\n",
        "\n",
        "word = 'loop'\n",
        "print(f\"\\n{word.title()}: {glossary[word]}\")\n",
        "\n",
        "word = 'dictionary'\n",
        "print(f\"\\n{word.title()}: {glossary[word]}\")\n",
        "\n",
        "word = 'variable'\n",
        "print(f\"\\n{word.title()}: {glossary[word]}\")\n",
        "\n",
        "word = 'input'\n",
        "print(f\"\\n{word.title()}: {glossary[word]}\")"
      ],
      "metadata": {
        "colab": {
          "base_uri": "https://localhost:8080/"
        },
        "id": "8NQH675D7NGr",
        "outputId": "8a141199-f358-4a51-a150-984555dc221c"
      },
      "execution_count": null,
      "outputs": [
        {
          "output_type": "stream",
          "name": "stdout",
          "text": [
            "\n",
            "If-Elif-Else: Conditional statements that provide you with the decision making that is needed for a particular condition.\n",
            "\n",
            "Comment: A note in a program that the Python interpreter ignores.\n",
            "\n",
            "List: Used to store multiple objects together in a particular order .\n",
            "\n",
            "Loop: Work through a collection of items, one at a time.\n",
            "\n",
            "Dictionary: A collection of key-value pairs, the act or process of writing a program.\n",
            "\n",
            "Variable: Is a placeholder used for storing data. The type of data may be numerical, string or any other type that the language supports.\n",
            "\n",
            "Input: To provide and give something to the computer.\n"
          ]
        }
      ]
    },
    {
      "cell_type": "code",
      "source": [
        "#TIY 6-4\n",
        "for word, definition in glossary.items():\n",
        "\tprint(word + \" :\\n\" + definition + '\\n')"
      ],
      "metadata": {
        "colab": {
          "base_uri": "https://localhost:8080/"
        },
        "id": "rInkI7kq9kbc",
        "outputId": "6d51df75-1ca9-4384-8c21-de0b9ab1b66a"
      },
      "execution_count": null,
      "outputs": [
        {
          "output_type": "stream",
          "name": "stdout",
          "text": [
            "if-elif-else :\n",
            "Conditional statements that provide you with the decision making that is needed for a particular condition.\n",
            "\n",
            "comment :\n",
            "A note in a program that the Python interpreter ignores.\n",
            "\n",
            "list :\n",
            "Used to store multiple objects together in a particular order .\n",
            "\n",
            "loop :\n",
            "Work through a collection of items, one at a time.\n",
            "\n",
            "dictionary :\n",
            "A collection of key-value pairs, the act or process of writing a program.\n",
            "\n",
            "variable :\n",
            "Is a placeholder used for storing data. The type of data may be numerical, string or any other type that the language supports.\n",
            "\n",
            "input :\n",
            "To provide and give something to the computer.\n",
            "\n"
          ]
        }
      ]
    },
    {
      "cell_type": "code",
      "source": [
        "#TIY 6-11\n",
        "\n",
        "cities = {\n",
        "\t'new york': {\n",
        "\t\t'state': 'new york',\n",
        "\t\t'population': 8468000,\n",
        "\t\t'fact': 'known as the big apple',\n",
        "\t\t},\n",
        "\t'key west': {\n",
        "\t\t'state': 'florida',\n",
        "\t\t'population': 26527,\n",
        "\t\t'fact': 'known as the conch republic',\n",
        "\t\t},\n",
        "\t'los angeles': {\n",
        "\t'state': 'california',\n",
        "\t'population': 4000000,\n",
        "\t'fact': 'known as the city of angels',\n",
        "\t},\n",
        "}\n",
        "\n",
        "for city, info in cities.items():\n",
        "\tprint(city + \":\")\n",
        "\tfor k, v in info.items():\n",
        "\t\tprint(\"\\t\" + k + \":\" + str(v))\n"
      ],
      "metadata": {
        "colab": {
          "base_uri": "https://localhost:8080/"
        },
        "id": "VmKyY7Bb9u6z",
        "outputId": "f3540dff-de41-40e3-da39-9a8c6b6883f7"
      },
      "execution_count": null,
      "outputs": [
        {
          "output_type": "stream",
          "name": "stdout",
          "text": [
            "new york:\n",
            "\tstate:new york\n",
            "\tpopulation:8468000\n",
            "\tfact:known as the big apple\n",
            "key west:\n",
            "\tstate:florida\n",
            "\tpopulation:26527\n",
            "\tfact:known as the conch republic\n",
            "los angeles:\n",
            "\tstate:california\n",
            "\tpopulation:4000000\n",
            "\tfact:known as the city of angels\n"
          ]
        }
      ]
    },
    {
      "cell_type": "code",
      "source": [
        "# Function to read a dictionary from a file\n",
        "def read_dictionary_from_file(filename):\n",
        "    dictionary = {}\n",
        "    with open(filename, 'r') as file:\n",
        "        for line in file:\n",
        "            name, grade = line.strip().split(',')\n",
        "            dictionary[name] = float(grade)\n",
        "    return dictionary\n",
        "\n",
        "# Create a file with name, grade lines\n",
        "def create_file_with_grades(filename):\n",
        "    with open(filename, 'w') as file:\n",
        "        file.write(\"Kevin, 91\\n\")\n",
        "        file.write(\"Ayush, 94\\n\")\n",
        "        file.write(\"Bob, 97\\n\")\n",
        "        file.write(\"Amy, 89\\n\")\n",
        "        file.write(\"Anikita, 97\\n\")\n",
        "        file.write(\"Ned, 79\\n\")\n",
        "        file.write(\"Timmy, 82\\n\")\n",
        "\n",
        "# Read the file and create a dictionary with names as keys and grades as values\n",
        "filename = \"grades.txt\"\n",
        "create_file_with_grades(filename)\n",
        "grades_dict = read_dictionary_from_file(filename)\n",
        "\n",
        "# Print out the dictionary sorted by names alphabetically\n",
        "sorted_names_dict = dict(sorted(grades_dict.items()))\n",
        "print(\"Dictionary sorted by names alphabetically:\")\n",
        "for name, grade in sorted_names_dict.items():\n",
        "    print(f\"{name}: {grade}\")\n",
        "\n",
        "# Print out the dictionary sorted by grades from highest to lowest\n",
        "sorted_grades_dict = dict(sorted(grades_dict.items(), key=lambda item: item[1], reverse=True))\n",
        "print(\"\\nDictionary sorted by grades from highest to lowest:\")\n",
        "for name, grade in sorted_grades_dict.items():\n",
        "    print(f\"{name}: {grade}\")\n",
        "\n"
      ],
      "metadata": {
        "colab": {
          "base_uri": "https://localhost:8080/"
        },
        "id": "dyFYRy3KBQ7V",
        "outputId": "15fc065e-f987-4e6f-fd79-d1912e3b6b18"
      },
      "execution_count": null,
      "outputs": [
        {
          "output_type": "stream",
          "name": "stdout",
          "text": [
            "Dictionary sorted by names alphabetically:\n",
            "Amy: 89.0\n",
            "Anikita: 97.0\n",
            "Ayush: 94.0\n",
            "Bob: 97.0\n",
            "Kevin: 91.0\n",
            "Ned: 79.0\n",
            "Timmy: 82.0\n",
            "\n",
            "Dictionary sorted by grades from highest to lowest:\n",
            "Bob: 97.0\n",
            "Anikita: 97.0\n",
            "Ayush: 94.0\n",
            "Kevin: 91.0\n",
            "Amy: 89.0\n",
            "Timmy: 82.0\n",
            "Ned: 79.0\n"
          ]
        }
      ]
    }
  ]
}